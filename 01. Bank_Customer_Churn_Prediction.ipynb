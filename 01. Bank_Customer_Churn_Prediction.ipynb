{
 "cells": [
  {
   "cell_type": "markdown",
   "id": "4434a7f9",
   "metadata": {},
   "source": [
    "# Bank Customer Churn Prediction\n",
    "\n",
    "Given a dataset consisiting of Bank Customer information, building a predictor which will tell us if a customer will exit the bank or not."
   ]
  },
  {
   "cell_type": "code",
   "execution_count": 1,
   "id": "ee716a3c",
   "metadata": {},
   "outputs": [
    {
     "name": "stdout",
     "output_type": "stream",
     "text": [
      "WARNING:tensorflow:From C:\\Users\\m2hasan\\AppData\\Local\\anaconda3\\Lib\\site-packages\\keras\\src\\losses.py:2976: The name tf.losses.sparse_softmax_cross_entropy is deprecated. Please use tf.compat.v1.losses.sparse_softmax_cross_entropy instead.\n",
      "\n"
     ]
    }
   ],
   "source": [
    "import numpy as np\n",
    "import pandas as pd\n",
    "import matplotlib.pyplot as plt\n",
    "import seaborn as sns\n",
    "from sklearn.preprocessing import LabelEncoder\n",
    "from sklearn.preprocessing import MinMaxScaler\n",
    "from sklearn.model_selection import train_test_split\n",
    "from sklearn.metrics import confusion_matrix , classification_report\n",
    "import tensorflow as tf\n",
    "from tensorflow import keras"
   ]
  },
  {
   "cell_type": "markdown",
   "id": "f9b6ce44",
   "metadata": {},
   "source": [
    "### Data Preprocessing"
   ]
  },
  {
   "cell_type": "markdown",
   "id": "d01a9f91",
   "metadata": {},
   "source": [
    "#### Load Dataset"
   ]
  },
  {
   "cell_type": "code",
   "execution_count": 2,
   "id": "d412f8b6",
   "metadata": {
    "scrolled": true
   },
   "outputs": [
    {
     "data": {
      "text/html": [
       "<div>\n",
       "<style scoped>\n",
       "    .dataframe tbody tr th:only-of-type {\n",
       "        vertical-align: middle;\n",
       "    }\n",
       "\n",
       "    .dataframe tbody tr th {\n",
       "        vertical-align: top;\n",
       "    }\n",
       "\n",
       "    .dataframe thead th {\n",
       "        text-align: right;\n",
       "    }\n",
       "</style>\n",
       "<table border=\"1\" class=\"dataframe\">\n",
       "  <thead>\n",
       "    <tr style=\"text-align: right;\">\n",
       "      <th></th>\n",
       "      <th>RowNumber</th>\n",
       "      <th>CustomerId</th>\n",
       "      <th>Surname</th>\n",
       "      <th>CreditScore</th>\n",
       "      <th>Geography</th>\n",
       "      <th>Gender</th>\n",
       "      <th>Age</th>\n",
       "      <th>Tenure</th>\n",
       "      <th>Balance</th>\n",
       "      <th>NumOfProducts</th>\n",
       "      <th>HasCrCard</th>\n",
       "      <th>IsActiveMember</th>\n",
       "      <th>EstimatedSalary</th>\n",
       "      <th>Exited</th>\n",
       "    </tr>\n",
       "  </thead>\n",
       "  <tbody>\n",
       "    <tr>\n",
       "      <th>0</th>\n",
       "      <td>1</td>\n",
       "      <td>15634602</td>\n",
       "      <td>Hargrave</td>\n",
       "      <td>619</td>\n",
       "      <td>France</td>\n",
       "      <td>Female</td>\n",
       "      <td>42</td>\n",
       "      <td>2</td>\n",
       "      <td>0.00</td>\n",
       "      <td>1</td>\n",
       "      <td>1</td>\n",
       "      <td>1</td>\n",
       "      <td>101348.88</td>\n",
       "      <td>1</td>\n",
       "    </tr>\n",
       "    <tr>\n",
       "      <th>1</th>\n",
       "      <td>2</td>\n",
       "      <td>15647311</td>\n",
       "      <td>Hill</td>\n",
       "      <td>608</td>\n",
       "      <td>Spain</td>\n",
       "      <td>Female</td>\n",
       "      <td>41</td>\n",
       "      <td>1</td>\n",
       "      <td>83807.86</td>\n",
       "      <td>1</td>\n",
       "      <td>0</td>\n",
       "      <td>1</td>\n",
       "      <td>112542.58</td>\n",
       "      <td>0</td>\n",
       "    </tr>\n",
       "    <tr>\n",
       "      <th>2</th>\n",
       "      <td>3</td>\n",
       "      <td>15619304</td>\n",
       "      <td>Onio</td>\n",
       "      <td>502</td>\n",
       "      <td>France</td>\n",
       "      <td>Female</td>\n",
       "      <td>42</td>\n",
       "      <td>8</td>\n",
       "      <td>159660.80</td>\n",
       "      <td>3</td>\n",
       "      <td>1</td>\n",
       "      <td>0</td>\n",
       "      <td>113931.57</td>\n",
       "      <td>1</td>\n",
       "    </tr>\n",
       "    <tr>\n",
       "      <th>3</th>\n",
       "      <td>4</td>\n",
       "      <td>15701354</td>\n",
       "      <td>Boni</td>\n",
       "      <td>699</td>\n",
       "      <td>France</td>\n",
       "      <td>Female</td>\n",
       "      <td>39</td>\n",
       "      <td>1</td>\n",
       "      <td>0.00</td>\n",
       "      <td>2</td>\n",
       "      <td>0</td>\n",
       "      <td>0</td>\n",
       "      <td>93826.63</td>\n",
       "      <td>0</td>\n",
       "    </tr>\n",
       "    <tr>\n",
       "      <th>4</th>\n",
       "      <td>5</td>\n",
       "      <td>15737888</td>\n",
       "      <td>Mitchell</td>\n",
       "      <td>850</td>\n",
       "      <td>Spain</td>\n",
       "      <td>Female</td>\n",
       "      <td>43</td>\n",
       "      <td>2</td>\n",
       "      <td>125510.82</td>\n",
       "      <td>1</td>\n",
       "      <td>1</td>\n",
       "      <td>1</td>\n",
       "      <td>79084.10</td>\n",
       "      <td>0</td>\n",
       "    </tr>\n",
       "  </tbody>\n",
       "</table>\n",
       "</div>"
      ],
      "text/plain": [
       "   RowNumber  CustomerId   Surname  CreditScore Geography  Gender  Age  \\\n",
       "0          1    15634602  Hargrave          619    France  Female   42   \n",
       "1          2    15647311      Hill          608     Spain  Female   41   \n",
       "2          3    15619304      Onio          502    France  Female   42   \n",
       "3          4    15701354      Boni          699    France  Female   39   \n",
       "4          5    15737888  Mitchell          850     Spain  Female   43   \n",
       "\n",
       "   Tenure    Balance  NumOfProducts  HasCrCard  IsActiveMember  \\\n",
       "0       2       0.00              1          1               1   \n",
       "1       1   83807.86              1          0               1   \n",
       "2       8  159660.80              3          1               0   \n",
       "3       1       0.00              2          0               0   \n",
       "4       2  125510.82              1          1               1   \n",
       "\n",
       "   EstimatedSalary  Exited  \n",
       "0        101348.88       1  \n",
       "1        112542.58       0  \n",
       "2        113931.57       1  \n",
       "3         93826.63       0  \n",
       "4         79084.10       0  "
      ]
     },
     "execution_count": 2,
     "metadata": {},
     "output_type": "execute_result"
    }
   ],
   "source": [
    "df = pd.read_csv(\"BankTurnoverDataset.csv\")\n",
    "df.head()"
   ]
  },
  {
   "cell_type": "code",
   "execution_count": 3,
   "id": "3e2b5054",
   "metadata": {},
   "outputs": [
    {
     "data": {
      "text/plain": [
       "(10000, 14)"
      ]
     },
     "execution_count": 3,
     "metadata": {},
     "output_type": "execute_result"
    }
   ],
   "source": [
    "df.shape"
   ]
  },
  {
   "cell_type": "code",
   "execution_count": 4,
   "id": "6a54f9e4",
   "metadata": {
    "scrolled": true
   },
   "outputs": [
    {
     "data": {
      "text/plain": [
       "Index(['RowNumber', 'CustomerId', 'Surname', 'CreditScore', 'Geography',\n",
       "       'Gender', 'Age', 'Tenure', 'Balance', 'NumOfProducts', 'HasCrCard',\n",
       "       'IsActiveMember', 'EstimatedSalary', 'Exited'],\n",
       "      dtype='object')"
      ]
     },
     "execution_count": 4,
     "metadata": {},
     "output_type": "execute_result"
    }
   ],
   "source": [
    "df.columns"
   ]
  },
  {
   "cell_type": "markdown",
   "id": "57ac390b",
   "metadata": {},
   "source": [
    "This data set has 10,000 datapoints and 14 attributes/features/columns.\n",
    "\n",
    "In this dataset, we have to consider which of the factors may play a role in someone exiting a bank. To do that we must look at all the column and infer whether it will matter in predicting a new customer churn or not. The information about a customer is entailed in columns 0 through 12 (RowNumber-EstimatedSalary), while the output (whether the customer churned or not) is stored in the 13th row (Exited)."
   ]
  },
  {
   "cell_type": "code",
   "execution_count": 5,
   "id": "97640b40",
   "metadata": {
    "scrolled": true
   },
   "outputs": [
    {
     "name": "stdout",
     "output_type": "stream",
     "text": [
      "RowNumber          0\n",
      "CustomerId         0\n",
      "Surname            0\n",
      "CreditScore        0\n",
      "Geography          0\n",
      "Gender             0\n",
      "Age                0\n",
      "Tenure             0\n",
      "Balance            0\n",
      "NumOfProducts      0\n",
      "HasCrCard          0\n",
      "IsActiveMember     0\n",
      "EstimatedSalary    0\n",
      "Exited             0\n",
      "dtype: int64\n"
     ]
    }
   ],
   "source": [
    "#Inspecting Null Values\n",
    "null_values = df.isnull().sum()\n",
    "\n",
    "print(null_values)"
   ]
  },
  {
   "cell_type": "markdown",
   "id": "54091298",
   "metadata": {},
   "source": [
    "This dataset is clean,The is no Null value present in any of the columns. \n"
   ]
  },
  {
   "cell_type": "markdown",
   "id": "9723d2c7",
   "metadata": {},
   "source": [
    "Here we can see that the column 'RowNumber','CustomerId' and 'Surname' is not important for our current analysis. So we can drop those coulmns. "
   ]
  },
  {
   "cell_type": "code",
   "execution_count": 6,
   "id": "39e01695",
   "metadata": {},
   "outputs": [],
   "source": [
    "columns_to_drop = ['RowNumber', 'CustomerId', 'Surname']\n",
    "\n",
    "df.drop(columns=columns_to_drop, inplace=True)"
   ]
  },
  {
   "cell_type": "code",
   "execution_count": 7,
   "id": "6e0dd4da",
   "metadata": {},
   "outputs": [
    {
     "data": {
      "text/plain": [
       "Index(['CreditScore', 'Geography', 'Gender', 'Age', 'Tenure', 'Balance',\n",
       "       'NumOfProducts', 'HasCrCard', 'IsActiveMember', 'EstimatedSalary',\n",
       "       'Exited'],\n",
       "      dtype='object')"
      ]
     },
     "execution_count": 7,
     "metadata": {},
     "output_type": "execute_result"
    }
   ],
   "source": [
    "df.columns"
   ]
  },
  {
   "cell_type": "code",
   "execution_count": 8,
   "id": "cf71f4ee",
   "metadata": {},
   "outputs": [
    {
     "data": {
      "text/html": [
       "<div>\n",
       "<style scoped>\n",
       "    .dataframe tbody tr th:only-of-type {\n",
       "        vertical-align: middle;\n",
       "    }\n",
       "\n",
       "    .dataframe tbody tr th {\n",
       "        vertical-align: top;\n",
       "    }\n",
       "\n",
       "    .dataframe thead th {\n",
       "        text-align: right;\n",
       "    }\n",
       "</style>\n",
       "<table border=\"1\" class=\"dataframe\">\n",
       "  <thead>\n",
       "    <tr style=\"text-align: right;\">\n",
       "      <th></th>\n",
       "      <th>CreditScore</th>\n",
       "      <th>Age</th>\n",
       "      <th>Tenure</th>\n",
       "      <th>Balance</th>\n",
       "      <th>NumOfProducts</th>\n",
       "      <th>HasCrCard</th>\n",
       "      <th>IsActiveMember</th>\n",
       "      <th>EstimatedSalary</th>\n",
       "      <th>Exited</th>\n",
       "    </tr>\n",
       "  </thead>\n",
       "  <tbody>\n",
       "    <tr>\n",
       "      <th>count</th>\n",
       "      <td>10000.000000</td>\n",
       "      <td>10000.000000</td>\n",
       "      <td>10000.000000</td>\n",
       "      <td>10000.000000</td>\n",
       "      <td>10000.000000</td>\n",
       "      <td>10000.00000</td>\n",
       "      <td>10000.000000</td>\n",
       "      <td>10000.000000</td>\n",
       "      <td>10000.000000</td>\n",
       "    </tr>\n",
       "    <tr>\n",
       "      <th>mean</th>\n",
       "      <td>650.528800</td>\n",
       "      <td>38.921800</td>\n",
       "      <td>5.012800</td>\n",
       "      <td>76485.889288</td>\n",
       "      <td>1.530200</td>\n",
       "      <td>0.70550</td>\n",
       "      <td>0.515100</td>\n",
       "      <td>100090.239881</td>\n",
       "      <td>0.203700</td>\n",
       "    </tr>\n",
       "    <tr>\n",
       "      <th>std</th>\n",
       "      <td>96.653299</td>\n",
       "      <td>10.487806</td>\n",
       "      <td>2.892174</td>\n",
       "      <td>62397.405202</td>\n",
       "      <td>0.581654</td>\n",
       "      <td>0.45584</td>\n",
       "      <td>0.499797</td>\n",
       "      <td>57510.492818</td>\n",
       "      <td>0.402769</td>\n",
       "    </tr>\n",
       "    <tr>\n",
       "      <th>min</th>\n",
       "      <td>350.000000</td>\n",
       "      <td>18.000000</td>\n",
       "      <td>0.000000</td>\n",
       "      <td>0.000000</td>\n",
       "      <td>1.000000</td>\n",
       "      <td>0.00000</td>\n",
       "      <td>0.000000</td>\n",
       "      <td>11.580000</td>\n",
       "      <td>0.000000</td>\n",
       "    </tr>\n",
       "    <tr>\n",
       "      <th>25%</th>\n",
       "      <td>584.000000</td>\n",
       "      <td>32.000000</td>\n",
       "      <td>3.000000</td>\n",
       "      <td>0.000000</td>\n",
       "      <td>1.000000</td>\n",
       "      <td>0.00000</td>\n",
       "      <td>0.000000</td>\n",
       "      <td>51002.110000</td>\n",
       "      <td>0.000000</td>\n",
       "    </tr>\n",
       "    <tr>\n",
       "      <th>50%</th>\n",
       "      <td>652.000000</td>\n",
       "      <td>37.000000</td>\n",
       "      <td>5.000000</td>\n",
       "      <td>97198.540000</td>\n",
       "      <td>1.000000</td>\n",
       "      <td>1.00000</td>\n",
       "      <td>1.000000</td>\n",
       "      <td>100193.915000</td>\n",
       "      <td>0.000000</td>\n",
       "    </tr>\n",
       "    <tr>\n",
       "      <th>75%</th>\n",
       "      <td>718.000000</td>\n",
       "      <td>44.000000</td>\n",
       "      <td>7.000000</td>\n",
       "      <td>127644.240000</td>\n",
       "      <td>2.000000</td>\n",
       "      <td>1.00000</td>\n",
       "      <td>1.000000</td>\n",
       "      <td>149388.247500</td>\n",
       "      <td>0.000000</td>\n",
       "    </tr>\n",
       "    <tr>\n",
       "      <th>max</th>\n",
       "      <td>850.000000</td>\n",
       "      <td>92.000000</td>\n",
       "      <td>10.000000</td>\n",
       "      <td>250898.090000</td>\n",
       "      <td>4.000000</td>\n",
       "      <td>1.00000</td>\n",
       "      <td>1.000000</td>\n",
       "      <td>199992.480000</td>\n",
       "      <td>1.000000</td>\n",
       "    </tr>\n",
       "  </tbody>\n",
       "</table>\n",
       "</div>"
      ],
      "text/plain": [
       "        CreditScore           Age        Tenure        Balance  NumOfProducts  \\\n",
       "count  10000.000000  10000.000000  10000.000000   10000.000000   10000.000000   \n",
       "mean     650.528800     38.921800      5.012800   76485.889288       1.530200   \n",
       "std       96.653299     10.487806      2.892174   62397.405202       0.581654   \n",
       "min      350.000000     18.000000      0.000000       0.000000       1.000000   \n",
       "25%      584.000000     32.000000      3.000000       0.000000       1.000000   \n",
       "50%      652.000000     37.000000      5.000000   97198.540000       1.000000   \n",
       "75%      718.000000     44.000000      7.000000  127644.240000       2.000000   \n",
       "max      850.000000     92.000000     10.000000  250898.090000       4.000000   \n",
       "\n",
       "         HasCrCard  IsActiveMember  EstimatedSalary        Exited  \n",
       "count  10000.00000    10000.000000     10000.000000  10000.000000  \n",
       "mean       0.70550        0.515100    100090.239881      0.203700  \n",
       "std        0.45584        0.499797     57510.492818      0.402769  \n",
       "min        0.00000        0.000000        11.580000      0.000000  \n",
       "25%        0.00000        0.000000     51002.110000      0.000000  \n",
       "50%        1.00000        1.000000    100193.915000      0.000000  \n",
       "75%        1.00000        1.000000    149388.247500      0.000000  \n",
       "max        1.00000        1.000000    199992.480000      1.000000  "
      ]
     },
     "execution_count": 8,
     "metadata": {},
     "output_type": "execute_result"
    }
   ],
   "source": [
    "df.describe()"
   ]
  },
  {
   "cell_type": "code",
   "execution_count": 9,
   "id": "31e0cdde",
   "metadata": {},
   "outputs": [
    {
     "data": {
      "text/plain": [
       "CreditScore          int64\n",
       "Geography           object\n",
       "Gender              object\n",
       "Age                  int64\n",
       "Tenure               int64\n",
       "Balance            float64\n",
       "NumOfProducts        int64\n",
       "HasCrCard            int64\n",
       "IsActiveMember       int64\n",
       "EstimatedSalary    float64\n",
       "Exited               int64\n",
       "dtype: object"
      ]
     },
     "execution_count": 9,
     "metadata": {},
     "output_type": "execute_result"
    }
   ],
   "source": [
    "df.dtypes"
   ]
  },
  {
   "cell_type": "markdown",
   "id": "f5a820e7",
   "metadata": {},
   "source": [
    "Here we can see that all the columns/attributes are in their desired datatypes. For example all the numeric data(CreditScore, Age, EstimatedSalary) are in integer / float types. On the other hand, Geography/Gender are in object type"
   ]
  },
  {
   "cell_type": "markdown",
   "id": "2bce6277",
   "metadata": {},
   "source": [
    "### Exploratory Data Analysis\n"
   ]
  },
  {
   "cell_type": "code",
   "execution_count": 10,
   "id": "7a998cf2",
   "metadata": {},
   "outputs": [],
   "source": [
    "# divide the dataset into \n",
    "df_churn_yes = df[df.Exited == 1]\n",
    "df_churn_no = df[df.Exited == 0]"
   ]
  },
  {
   "cell_type": "code",
   "execution_count": 11,
   "id": "debc7fbe",
   "metadata": {
    "scrolled": true
   },
   "outputs": [
    {
     "name": "stdout",
     "output_type": "stream",
     "text": [
      "Churn = Yes: 2037\n",
      "Churn = No: 7963\n"
     ]
    }
   ],
   "source": [
    "print(\"Churn = Yes:\", df_churn_yes.shape[0])\n",
    "print(\"Churn = No:\",df_churn_no.shape[0])"
   ]
  },
  {
   "cell_type": "markdown",
   "id": "43d83332",
   "metadata": {},
   "source": [
    "1. Count: Customer Retention VS Churn"
   ]
  },
  {
   "cell_type": "code",
   "execution_count": 12,
   "id": "9cdaf18e",
   "metadata": {},
   "outputs": [
    {
     "data": {
      "image/png": "[encoded data removed]",
      "text/plain": [
       "<Figure size 600x400 with 1 Axes>"
      ]
     },
     "metadata": {},
     "output_type": "display_data"
    }
   ],
   "source": [
    "# Count the number of customers who stayed and left\n",
    "exited_counts = df['Exited'].value_counts()\n",
    "\n",
    "# Plotting the histogram\n",
    "plt.figure(figsize=(6, 4))\n",
    "exited_counts.plot(kind='bar', color=['green', 'red'])\n",
    "plt.title('Count: Customer Retention VS Churn')\n",
    "plt.xlabel('Exited')\n",
    "plt.ylabel('Number Of Customers')\n",
    "plt.xticks([0, 1], ['Retained', 'Churned'], rotation=0)\n",
    "plt.show()"
   ]
  },
  {
   "cell_type": "markdown",
   "id": "97b31b6d",
   "metadata": {},
   "source": [
    "2. Tenure (No of years people spend in this service) distribution of customers (Retained vs Churned)"
   ]
  },
  {
   "cell_type": "code",
   "execution_count": 13,
   "id": "78d97678",
   "metadata": {},
   "outputs": [
    {
     "data": {
      "text/plain": [
       "<matplotlib.legend.Legend at 0x219ea6d3d50>"
      ]
     },
     "execution_count": 13,
     "metadata": {},
     "output_type": "execute_result"
    },
    {
     "data": {
      "image/png": "[encoded data removed]",
      "text/plain": [
       "<Figure size 640x480 with 1 Axes>"
      ]
     },
     "metadata": {},
     "output_type": "display_data"
    }
   ],
   "source": [
    "tenure_churn_no = df[df.Exited==0].Tenure               \n",
    "tenure_churn_yes = df[df.Exited==1].Tenure               \n",
    "\n",
    "plt.xlabel(\"Tenure (Year)\")\n",
    "plt.ylabel(\"Number Of Customers\")\n",
    "plt.title(\"Tenure Distribution: Retained VS churned\")\n",
    "\n",
    "plt.hist([tenure_churn_no, tenure_churn_yes], rwidth=0.95, color=['green','red'],label=['Retained','Churned'])\n",
    "plt.legend()"
   ]
  },
  {
   "cell_type": "markdown",
   "id": "9081e0b9",
   "metadata": {},
   "source": [
    "3. Gender distribution of customers (Retained vs Churned)"
   ]
  },
  {
   "cell_type": "code",
   "execution_count": 14,
   "id": "1c1cbc85",
   "metadata": {},
   "outputs": [
    {
     "data": {
      "text/plain": [
       "<matplotlib.legend.Legend at 0x219ea626a90>"
      ]
     },
     "execution_count": 14,
     "metadata": {},
     "output_type": "execute_result"
    },
    {
     "data": {
      "image/png": "[encoded data removed]",
      "text/plain": [
       "<Figure size 640x480 with 1 Axes>"
      ]
     },
     "metadata": {},
     "output_type": "display_data"
    }
   ],
   "source": [
    "Gender_churn_no = df[df.Exited==0].Gender               \n",
    "Gender_churn_yes = df[df.Exited==1].Gender               \n",
    "\n",
    "plt.xlabel(\"Gender\")\n",
    "plt.ylabel(\"Number Of Customers\")\n",
    "plt.title(\"Gender Distribution: Retained VS churned\")\n",
    "plt.xticks([0.25, 0.75], ['Female', 'Male'])\n",
    "plt.hist([Gender_churn_no, Gender_churn_yes], rwidth=0.95, color=['green','red'],label=['Retained','Churned'], orientation='vertical', bins=2)\n",
    "plt.legend()"
   ]
  },
  {
   "cell_type": "markdown",
   "id": "9b380cd9",
   "metadata": {},
   "source": [
    "4. Credit Score Distribution"
   ]
  },
  {
   "cell_type": "code",
   "execution_count": 15,
   "id": "f7ff5ca8",
   "metadata": {},
   "outputs": [
    {
     "data": {
      "text/plain": [
       "<matplotlib.legend.Legend at 0x219eaf52e10>"
      ]
     },
     "execution_count": 15,
     "metadata": {},
     "output_type": "execute_result"
    },
    {
     "data": {
      "image/png": "[encoded data removed]",
      "text/plain": [
       "<Figure size 640x480 with 1 Axes>"
      ]
     },
     "metadata": {},
     "output_type": "display_data"
    }
   ],
   "source": [
    "CreditScore_churn_no = df[df.Exited==0].CreditScore               \n",
    "CreditScore_churn_yes = df[df.Exited==1].CreditScore      \n",
    "\n",
    "plt.xlabel(\"Credit Score\")\n",
    "plt.ylabel(\"Number Of Customers\")\n",
    "plt.title(\"Credit Distribution: Retained VS churned\")\n",
    "\n",
    "plt.hist([CreditScore_churn_no, CreditScore_churn_yes], rwidth=0.95, color=['green','red'],label=['Retained','Churned'])\n",
    "plt.legend()"
   ]
  },
  {
   "cell_type": "markdown",
   "id": "e6755c27",
   "metadata": {},
   "source": [
    "5. Geography Distribution"
   ]
  },
  {
   "cell_type": "code",
   "execution_count": 16,
   "id": "b5dcf016",
   "metadata": {},
   "outputs": [
    {
     "data": {
      "text/plain": [
       "<matplotlib.legend.Legend at 0x219eb009010>"
      ]
     },
     "execution_count": 16,
     "metadata": {},
     "output_type": "execute_result"
    },
    {
     "data": {
      "image/png": "[encoded data removed]",
      "text/plain": [
       "<Figure size 640x480 with 1 Axes>"
      ]
     },
     "metadata": {},
     "output_type": "display_data"
    }
   ],
   "source": [
    "Geography_churn_no = df[df.Exited==0].Geography               \n",
    "Geography_churn_yes = df[df.Exited==1].Geography      \n",
    "\n",
    "plt.xlabel(\"Country\")\n",
    "plt.ylabel(\"Number Of Customers\")\n",
    "plt.title(\"Country wise Retained VS churned\")\n",
    "plt.xticks([0.33, 1.0, 1.67], ['Spain','France', 'Germany'])\n",
    "plt.hist([Geography_churn_no, Geography_churn_yes], rwidth=0.95, color=['green','red'],label=['Retained','Churned'], orientation='vertical', bins=3)\n",
    "plt.legend()"
   ]
  },
  {
   "cell_type": "markdown",
   "id": "3830c3fa",
   "metadata": {},
   "source": [
    "#### One hot encoding to the categorical variables:"
   ]
  },
  {
   "cell_type": "code",
   "execution_count": 17,
   "id": "f5d1b443",
   "metadata": {},
   "outputs": [
    {
     "data": {
      "text/plain": [
       "Index(['CreditScore', 'Gender', 'Age', 'Tenure', 'Balance', 'NumOfProducts',\n",
       "       'HasCrCard', 'IsActiveMember', 'EstimatedSalary', 'Exited',\n",
       "       'Geography_France', 'Geography_Germany', 'Geography_Spain'],\n",
       "      dtype='object')"
      ]
     },
     "execution_count": 17,
     "metadata": {},
     "output_type": "execute_result"
    }
   ],
   "source": [
    "df = pd.get_dummies(data=df, columns=['Geography'], dtype='uint8')\n",
    "df.columns"
   ]
  },
  {
   "cell_type": "code",
   "execution_count": 18,
   "id": "3526085f",
   "metadata": {},
   "outputs": [
    {
     "data": {
      "text/html": [
       "<div>\n",
       "<style scoped>\n",
       "    .dataframe tbody tr th:only-of-type {\n",
       "        vertical-align: middle;\n",
       "    }\n",
       "\n",
       "    .dataframe tbody tr th {\n",
       "        vertical-align: top;\n",
       "    }\n",
       "\n",
       "    .dataframe thead th {\n",
       "        text-align: right;\n",
       "    }\n",
       "</style>\n",
       "<table border=\"1\" class=\"dataframe\">\n",
       "  <thead>\n",
       "    <tr style=\"text-align: right;\">\n",
       "      <th></th>\n",
       "      <th>CreditScore</th>\n",
       "      <th>Gender</th>\n",
       "      <th>Age</th>\n",
       "      <th>Tenure</th>\n",
       "      <th>Balance</th>\n",
       "      <th>NumOfProducts</th>\n",
       "      <th>HasCrCard</th>\n",
       "      <th>IsActiveMember</th>\n",
       "      <th>EstimatedSalary</th>\n",
       "      <th>Exited</th>\n",
       "      <th>Geography_France</th>\n",
       "      <th>Geography_Germany</th>\n",
       "      <th>Geography_Spain</th>\n",
       "    </tr>\n",
       "  </thead>\n",
       "  <tbody>\n",
       "    <tr>\n",
       "      <th>0</th>\n",
       "      <td>619</td>\n",
       "      <td>Female</td>\n",
       "      <td>42</td>\n",
       "      <td>2</td>\n",
       "      <td>0.00</td>\n",
       "      <td>1</td>\n",
       "      <td>1</td>\n",
       "      <td>1</td>\n",
       "      <td>101348.88</td>\n",
       "      <td>1</td>\n",
       "      <td>1</td>\n",
       "      <td>0</td>\n",
       "      <td>0</td>\n",
       "    </tr>\n",
       "    <tr>\n",
       "      <th>1</th>\n",
       "      <td>608</td>\n",
       "      <td>Female</td>\n",
       "      <td>41</td>\n",
       "      <td>1</td>\n",
       "      <td>83807.86</td>\n",
       "      <td>1</td>\n",
       "      <td>0</td>\n",
       "      <td>1</td>\n",
       "      <td>112542.58</td>\n",
       "      <td>0</td>\n",
       "      <td>0</td>\n",
       "      <td>0</td>\n",
       "      <td>1</td>\n",
       "    </tr>\n",
       "    <tr>\n",
       "      <th>2</th>\n",
       "      <td>502</td>\n",
       "      <td>Female</td>\n",
       "      <td>42</td>\n",
       "      <td>8</td>\n",
       "      <td>159660.80</td>\n",
       "      <td>3</td>\n",
       "      <td>1</td>\n",
       "      <td>0</td>\n",
       "      <td>113931.57</td>\n",
       "      <td>1</td>\n",
       "      <td>1</td>\n",
       "      <td>0</td>\n",
       "      <td>0</td>\n",
       "    </tr>\n",
       "    <tr>\n",
       "      <th>3</th>\n",
       "      <td>699</td>\n",
       "      <td>Female</td>\n",
       "      <td>39</td>\n",
       "      <td>1</td>\n",
       "      <td>0.00</td>\n",
       "      <td>2</td>\n",
       "      <td>0</td>\n",
       "      <td>0</td>\n",
       "      <td>93826.63</td>\n",
       "      <td>0</td>\n",
       "      <td>1</td>\n",
       "      <td>0</td>\n",
       "      <td>0</td>\n",
       "    </tr>\n",
       "    <tr>\n",
       "      <th>4</th>\n",
       "      <td>850</td>\n",
       "      <td>Female</td>\n",
       "      <td>43</td>\n",
       "      <td>2</td>\n",
       "      <td>125510.82</td>\n",
       "      <td>1</td>\n",
       "      <td>1</td>\n",
       "      <td>1</td>\n",
       "      <td>79084.10</td>\n",
       "      <td>0</td>\n",
       "      <td>0</td>\n",
       "      <td>0</td>\n",
       "      <td>1</td>\n",
       "    </tr>\n",
       "  </tbody>\n",
       "</table>\n",
       "</div>"
      ],
      "text/plain": [
       "   CreditScore  Gender  Age  Tenure    Balance  NumOfProducts  HasCrCard  \\\n",
       "0          619  Female   42       2       0.00              1          1   \n",
       "1          608  Female   41       1   83807.86              1          0   \n",
       "2          502  Female   42       8  159660.80              3          1   \n",
       "3          699  Female   39       1       0.00              2          0   \n",
       "4          850  Female   43       2  125510.82              1          1   \n",
       "\n",
       "   IsActiveMember  EstimatedSalary  Exited  Geography_France  \\\n",
       "0               1        101348.88       1                 1   \n",
       "1               1        112542.58       0                 0   \n",
       "2               0        113931.57       1                 1   \n",
       "3               0         93826.63       0                 1   \n",
       "4               1         79084.10       0                 0   \n",
       "\n",
       "   Geography_Germany  Geography_Spain  \n",
       "0                  0                0  \n",
       "1                  0                1  \n",
       "2                  0                0  \n",
       "3                  0                0  \n",
       "4                  0                1  "
      ]
     },
     "execution_count": 18,
     "metadata": {},
     "output_type": "execute_result"
    }
   ],
   "source": [
    "df.head()"
   ]
  },
  {
   "cell_type": "code",
   "execution_count": 19,
   "id": "4b3961bd",
   "metadata": {},
   "outputs": [
    {
     "data": {
      "text/plain": [
       "CreditScore            int64\n",
       "Gender                object\n",
       "Age                    int64\n",
       "Tenure                 int64\n",
       "Balance              float64\n",
       "NumOfProducts          int64\n",
       "HasCrCard              int64\n",
       "IsActiveMember         int64\n",
       "EstimatedSalary      float64\n",
       "Exited                 int64\n",
       "Geography_France       uint8\n",
       "Geography_Germany      uint8\n",
       "Geography_Spain        uint8\n",
       "dtype: object"
      ]
     },
     "execution_count": 19,
     "metadata": {},
     "output_type": "execute_result"
    }
   ],
   "source": [
    "df.dtypes"
   ]
  },
  {
   "cell_type": "code",
   "execution_count": 20,
   "id": "2b246dea",
   "metadata": {},
   "outputs": [],
   "source": [
    "# Encode Gender (0 and 1)\n",
    "df['Gender'] = LabelEncoder().fit_transform(df['Gender'])\n",
    "#df['Gender'].replace({'Female':1,'Male':0},inplace=True)"
   ]
  },
  {
   "cell_type": "code",
   "execution_count": 21,
   "id": "e3f67200",
   "metadata": {},
   "outputs": [],
   "source": [
    "# Scale Columns\n",
    "columns_to_scale = ['CreditScore', 'Age', 'Tenure','Balance','NumOfProducts', 'EstimatedSalary']\n",
    "\n",
    "scaler = MinMaxScaler()\n",
    "df[columns_to_scale] = scaler.fit_transform(df[columns_to_scale])"
   ]
  },
  {
   "cell_type": "code",
   "execution_count": 22,
   "id": "e67429bc",
   "metadata": {
    "scrolled": true
   },
   "outputs": [
    {
     "name": "stdout",
     "output_type": "stream",
     "text": [
      "CreditScore: [0.538 0.516 0.304 0.698 1.    0.59  0.944 0.052 0.302 0.668 0.356 0.294\n",
      " 0.252 0.398 0.57  0.532 0.606 0.474 0.752 0.764 0.572 0.32  0.638 0.992\n",
      " 0.454 0.812 0.442 0.448 0.122 0.482 0.366 0.406 0.34  0.744 0.25  0.28\n",
      " 0.908 0.464 0.244 0.23  0.412 0.968 0.62  0.852 0.958 0.574 0.4   0.696\n",
      " 0.47  0.876 0.61  0.502 0.612 0.75  0.322 0.528 0.784 0.674 0.41  0.506\n",
      " 0.802 0.462 0.77  0.622 0.65  0.776 0.926 0.614 0.508 0.338 0.628 0.656\n",
      " 0.814 0.132 0.63  0.854 0.386 0.312 0.286 0.604 0.8   0.758 0.592 0.594\n",
      " 0.916 0.348 0.838 0.76  0.33  0.846 0.928 0.72  0.126 0.546 0.64  0.544\n",
      " 0.87  0.51  0.258 0.67  0.376 0.424 0.742 0.556 0.636 0.956 0.648 0.55\n",
      " 0.164 0.84  0.816 0.89  0.672 0.878 0.478 0.222 0.468 0.458 0.626 0.664\n",
      " 0.886 0.682 0.27  0.6   0.808 0.37  0.732 0.378 0.712 0.472 0.562 0.734\n",
      " 0.9   0.666 0.708 0.53  0.634 0.268 0.26  0.456 0.324 0.512 0.494 0.856\n",
      " 0.328 0.35  0.73  0.46  0.914 0.342 0.818 0.332 0.722 0.536 0.586 0.642\n",
      " 0.678 0.54  0.652 0.444 0.69  0.484 0.434 0.688 0.394 0.488 0.646 0.52\n",
      " 0.834 0.826 0.724 0.706 0.624 0.618 0.346 0.844 0.39  0.568 0.778 0.842\n",
      " 0.662 0.388 0.692 0.832 0.754 0.686 0.414 0.362 0.296 0.602 0.882 0.766\n",
      " 0.922 0.714 0.728 0.864 0.85  0.898 0.504 0.788 0.476 0.794 0.466 0.554\n",
      " 0.762 0.558 0.176 0.584 0.912 0.248 0.418 0.158 0.66  0.798 0.768 0.588\n",
      " 0.552 0.598 0.91  0.736 0.98  0.56  0.608 0.824 0.436 0.526 0.344 0.774\n",
      " 0.596 0.186 0.58  0.38  0.22  0.486 0.902 0.522 0.904 0.79  0.266 0.68\n",
      " 0.284 0.718 0.71  0.42  0.804 0.702 0.374 0.274 0.492 0.704 0.272 0.748\n",
      " 0.396 0.228 0.88  0.368 0.796 0.288 0.48  0.236 0.318 0.936 0.932 0.372\n",
      " 0.806 0.848 0.542 0.438 0.616 0.896 0.582 0.384 0.684 0.578 0.83  0.44\n",
      " 0.576 0.498 0.564 0.858 0.354 0.428 0.966 0.308 0.984 0.316 0.134 0.496\n",
      " 0.782 0.514 0.822 0.996 0.392 0.178 0.81  0.82  0.352 0.726 0.7   0.632\n",
      " 0.432 0.29  0.676 0.524 0.254 0.154 0.978 0.938 0.74  0.218 0.306 0.548\n",
      " 0.358 0.426 0.264 0.892 0.19  0.792 0.872 0.408 0.644 0.874 0.298 0.988\n",
      " 0.2   0.93  0.976 0.906 0.772 0.566 0.5   0.658 0.334 0.884 0.786 0.276\n",
      " 0.142 0.982 0.716 0.314 0.31  0.212 0.17  0.422 0.336 0.43  0.756 0.868\n",
      " 0.404 0.518 0.828 0.694 0.746 0.402 0.188 0.738 0.292 0.382 0.96  0.924\n",
      " 0.654 0.14  0.49  0.534 0.918 0.3   0.952 0.168 0.326 0.256 0.894 0.026\n",
      " 0.098 0.226 0.86  0.204 0.45  0.974 0.888 0.948 0.156 0.946 0.862 0.998\n",
      " 0.278 0.162 0.214 0.836 0.962 0.018 0.94  0.446 0.452 0.416 0.934 0.198\n",
      " 0.18  0.13  0.942 0.36  0.    0.192 0.15  0.78  0.262 0.866 0.016 0.99\n",
      " 0.202 0.216 0.238 0.146 0.108 0.972 0.246 0.97  0.232 0.282 0.002 0.954\n",
      " 0.986 0.03  0.364 0.128 0.206 0.242 0.102 0.92  0.964 0.24  0.194 0.144\n",
      " 0.95  0.16  0.172 0.152 0.116 0.994 0.136 0.174 0.12  0.208 0.114 0.21\n",
      " 0.224 0.072 0.11  0.066 0.09  0.234 0.166 0.184 0.148 0.196 0.182 0.034\n",
      " 0.124 0.064 0.046 0.138]\n",
      "Gender: [0 1]\n",
      "Age: [0.32432432 0.31081081 0.28378378 0.33783784 0.35135135 0.43243243\n",
      " 0.14864865 0.12162162 0.17567568 0.08108108 0.21621622 0.09459459\n",
      " 0.22972973 0.36486486 0.54054054 0.18918919 0.27027027 0.37837838\n",
      " 0.24324324 0.2027027  0.2972973  0.44594595 0.58108108 0.41891892\n",
      " 0.25675676 0.01351351 0.64864865 0.51351351 0.10810811 0.04054054\n",
      " 0.5        0.77027027 0.05405405 0.16216216 0.13513514 0.63513514\n",
      " 0.40540541 0.45945946 0.52702703 0.74324324 0.39189189 0.48648649\n",
      " 0.72972973 0.02702703 0.66216216 0.82432432 0.59459459 0.47297297\n",
      " 0.83783784 0.55405405 0.67567568 0.06756757 0.56756757 0.7027027\n",
      " 0.60810811 0.62162162 0.         0.86486486 0.68918919 0.75675676\n",
      " 0.71621622 0.78378378 0.7972973  0.94594595 0.90540541 0.89189189\n",
      " 0.81081081 0.85135135 1.         0.87837838]\n",
      "Tenure: [0.2 0.1 0.8 0.7 0.4 0.6 0.3 1.  0.5 0.9 0. ]\n",
      "Balance: [0.         0.33403148 0.63635718 ... 0.22865702 0.29922631 0.51870777]\n",
      "NumOfProducts: [0.         0.66666667 0.33333333 1.        ]\n",
      "HasCrCard: [1 0]\n",
      "IsActiveMember: [1 0]\n",
      "EstimatedSalary: [0.50673489 0.56270874 0.56965435 ... 0.21039009 0.46442905 0.19091423]\n",
      "Exited: [1 0]\n",
      "Geography_France: [1 0]\n",
      "Geography_Germany: [0 1]\n",
      "Geography_Spain: [0 1]\n"
     ]
    }
   ],
   "source": [
    "for col in df:\n",
    "    print(f'{col}: {df[col].unique()}')"
   ]
  },
  {
   "cell_type": "markdown",
   "id": "763c8812",
   "metadata": {},
   "source": [
    "#### Train Test Split:"
   ]
  },
  {
   "cell_type": "code",
   "execution_count": 23,
   "id": "905568de",
   "metadata": {},
   "outputs": [],
   "source": [
    "X = df.drop('Exited', axis = 'columns')\n",
    "y = df['Exited']"
   ]
  },
  {
   "cell_type": "code",
   "execution_count": 24,
   "id": "163de345",
   "metadata": {},
   "outputs": [],
   "source": [
    "\n",
    "X_train, X_test, y_train, y_test = train_test_split(X,y,test_size=0.2,random_state=5)"
   ]
  },
  {
   "cell_type": "code",
   "execution_count": 25,
   "id": "156d3625",
   "metadata": {},
   "outputs": [
    {
     "data": {
      "text/plain": [
       "(8000, 12)"
      ]
     },
     "execution_count": 25,
     "metadata": {},
     "output_type": "execute_result"
    }
   ],
   "source": [
    "X_train.shape"
   ]
  },
  {
   "cell_type": "code",
   "execution_count": 26,
   "id": "b1a1e588",
   "metadata": {},
   "outputs": [
    {
     "data": {
      "text/plain": [
       "(2000, 12)"
      ]
     },
     "execution_count": 26,
     "metadata": {},
     "output_type": "execute_result"
    }
   ],
   "source": [
    "X_test.shape"
   ]
  },
  {
   "cell_type": "code",
   "execution_count": 27,
   "id": "c6816da8",
   "metadata": {
    "scrolled": true
   },
   "outputs": [
    {
     "data": {
      "text/html": [
       "<div>\n",
       "<style scoped>\n",
       "    .dataframe tbody tr th:only-of-type {\n",
       "        vertical-align: middle;\n",
       "    }\n",
       "\n",
       "    .dataframe tbody tr th {\n",
       "        vertical-align: top;\n",
       "    }\n",
       "\n",
       "    .dataframe thead th {\n",
       "        text-align: right;\n",
       "    }\n",
       "</style>\n",
       "<table border=\"1\" class=\"dataframe\">\n",
       "  <thead>\n",
       "    <tr style=\"text-align: right;\">\n",
       "      <th></th>\n",
       "      <th>CreditScore</th>\n",
       "      <th>Gender</th>\n",
       "      <th>Age</th>\n",
       "      <th>Tenure</th>\n",
       "      <th>Balance</th>\n",
       "      <th>NumOfProducts</th>\n",
       "      <th>HasCrCard</th>\n",
       "      <th>IsActiveMember</th>\n",
       "      <th>EstimatedSalary</th>\n",
       "      <th>Geography_France</th>\n",
       "      <th>Geography_Germany</th>\n",
       "      <th>Geography_Spain</th>\n",
       "    </tr>\n",
       "  </thead>\n",
       "  <tbody>\n",
       "    <tr>\n",
       "      <th>7751</th>\n",
       "      <td>0.800</td>\n",
       "      <td>0</td>\n",
       "      <td>0.283784</td>\n",
       "      <td>0.6</td>\n",
       "      <td>0.000000</td>\n",
       "      <td>0.333333</td>\n",
       "      <td>0</td>\n",
       "      <td>0</td>\n",
       "      <td>0.096273</td>\n",
       "      <td>0</td>\n",
       "      <td>0</td>\n",
       "      <td>1</td>\n",
       "    </tr>\n",
       "    <tr>\n",
       "      <th>4154</th>\n",
       "      <td>0.752</td>\n",
       "      <td>1</td>\n",
       "      <td>0.216216</td>\n",
       "      <td>0.3</td>\n",
       "      <td>0.000000</td>\n",
       "      <td>0.333333</td>\n",
       "      <td>1</td>\n",
       "      <td>0</td>\n",
       "      <td>0.981478</td>\n",
       "      <td>1</td>\n",
       "      <td>0</td>\n",
       "      <td>0</td>\n",
       "    </tr>\n",
       "    <tr>\n",
       "      <th>3881</th>\n",
       "      <td>0.476</td>\n",
       "      <td>0</td>\n",
       "      <td>0.621622</td>\n",
       "      <td>0.3</td>\n",
       "      <td>0.000000</td>\n",
       "      <td>0.000000</td>\n",
       "      <td>1</td>\n",
       "      <td>1</td>\n",
       "      <td>0.948551</td>\n",
       "      <td>1</td>\n",
       "      <td>0</td>\n",
       "      <td>0</td>\n",
       "    </tr>\n",
       "    <tr>\n",
       "      <th>9238</th>\n",
       "      <td>0.846</td>\n",
       "      <td>0</td>\n",
       "      <td>0.432432</td>\n",
       "      <td>0.4</td>\n",
       "      <td>0.000000</td>\n",
       "      <td>0.333333</td>\n",
       "      <td>1</td>\n",
       "      <td>0</td>\n",
       "      <td>0.646869</td>\n",
       "      <td>1</td>\n",
       "      <td>0</td>\n",
       "      <td>0</td>\n",
       "    </tr>\n",
       "    <tr>\n",
       "      <th>5210</th>\n",
       "      <td>0.402</td>\n",
       "      <td>1</td>\n",
       "      <td>0.229730</td>\n",
       "      <td>0.7</td>\n",
       "      <td>0.517012</td>\n",
       "      <td>0.333333</td>\n",
       "      <td>0</td>\n",
       "      <td>0</td>\n",
       "      <td>0.434670</td>\n",
       "      <td>1</td>\n",
       "      <td>0</td>\n",
       "      <td>0</td>\n",
       "    </tr>\n",
       "    <tr>\n",
       "      <th>7487</th>\n",
       "      <td>0.602</td>\n",
       "      <td>0</td>\n",
       "      <td>0.513514</td>\n",
       "      <td>0.4</td>\n",
       "      <td>0.000000</td>\n",
       "      <td>0.000000</td>\n",
       "      <td>0</td>\n",
       "      <td>0</td>\n",
       "      <td>0.421898</td>\n",
       "      <td>1</td>\n",
       "      <td>0</td>\n",
       "      <td>0</td>\n",
       "    </tr>\n",
       "    <tr>\n",
       "      <th>7542</th>\n",
       "      <td>0.314</td>\n",
       "      <td>0</td>\n",
       "      <td>0.216216</td>\n",
       "      <td>0.4</td>\n",
       "      <td>0.000000</td>\n",
       "      <td>0.333333</td>\n",
       "      <td>1</td>\n",
       "      <td>1</td>\n",
       "      <td>0.303413</td>\n",
       "      <td>0</td>\n",
       "      <td>0</td>\n",
       "      <td>1</td>\n",
       "    </tr>\n",
       "    <tr>\n",
       "      <th>7524</th>\n",
       "      <td>0.620</td>\n",
       "      <td>0</td>\n",
       "      <td>0.297297</td>\n",
       "      <td>0.8</td>\n",
       "      <td>0.666330</td>\n",
       "      <td>0.000000</td>\n",
       "      <td>1</td>\n",
       "      <td>1</td>\n",
       "      <td>0.925815</td>\n",
       "      <td>1</td>\n",
       "      <td>0</td>\n",
       "      <td>0</td>\n",
       "    </tr>\n",
       "    <tr>\n",
       "      <th>9412</th>\n",
       "      <td>0.750</td>\n",
       "      <td>1</td>\n",
       "      <td>0.108108</td>\n",
       "      <td>0.6</td>\n",
       "      <td>0.393324</td>\n",
       "      <td>0.000000</td>\n",
       "      <td>0</td>\n",
       "      <td>0</td>\n",
       "      <td>0.668609</td>\n",
       "      <td>1</td>\n",
       "      <td>0</td>\n",
       "      <td>0</td>\n",
       "    </tr>\n",
       "    <tr>\n",
       "      <th>6377</th>\n",
       "      <td>0.684</td>\n",
       "      <td>1</td>\n",
       "      <td>0.202703</td>\n",
       "      <td>0.9</td>\n",
       "      <td>0.000000</td>\n",
       "      <td>0.000000</td>\n",
       "      <td>1</td>\n",
       "      <td>0</td>\n",
       "      <td>0.567526</td>\n",
       "      <td>1</td>\n",
       "      <td>0</td>\n",
       "      <td>0</td>\n",
       "    </tr>\n",
       "  </tbody>\n",
       "</table>\n",
       "</div>"
      ],
      "text/plain": [
       "      CreditScore  Gender       Age  Tenure   Balance  NumOfProducts  \\\n",
       "7751        0.800       0  0.283784     0.6  0.000000       0.333333   \n",
       "4154        0.752       1  0.216216     0.3  0.000000       0.333333   \n",
       "3881        0.476       0  0.621622     0.3  0.000000       0.000000   \n",
       "9238        0.846       0  0.432432     0.4  0.000000       0.333333   \n",
       "5210        0.402       1  0.229730     0.7  0.517012       0.333333   \n",
       "7487        0.602       0  0.513514     0.4  0.000000       0.000000   \n",
       "7542        0.314       0  0.216216     0.4  0.000000       0.333333   \n",
       "7524        0.620       0  0.297297     0.8  0.666330       0.000000   \n",
       "9412        0.750       1  0.108108     0.6  0.393324       0.000000   \n",
       "6377        0.684       1  0.202703     0.9  0.000000       0.000000   \n",
       "\n",
       "      HasCrCard  IsActiveMember  EstimatedSalary  Geography_France  \\\n",
       "7751          0               0         0.096273                 0   \n",
       "4154          1               0         0.981478                 1   \n",
       "3881          1               1         0.948551                 1   \n",
       "9238          1               0         0.646869                 1   \n",
       "5210          0               0         0.434670                 1   \n",
       "7487          0               0         0.421898                 1   \n",
       "7542          1               1         0.303413                 0   \n",
       "7524          1               1         0.925815                 1   \n",
       "9412          0               0         0.668609                 1   \n",
       "6377          1               0         0.567526                 1   \n",
       "\n",
       "      Geography_Germany  Geography_Spain  \n",
       "7751                  0                1  \n",
       "4154                  0                0  \n",
       "3881                  0                0  \n",
       "9238                  0                0  \n",
       "5210                  0                0  \n",
       "7487                  0                0  \n",
       "7542                  0                1  \n",
       "7524                  0                0  \n",
       "9412                  0                0  \n",
       "6377                  0                0  "
      ]
     },
     "execution_count": 27,
     "metadata": {},
     "output_type": "execute_result"
    }
   ],
   "source": [
    "X_train[:10]"
   ]
  },
  {
   "cell_type": "markdown",
   "id": "c88a1ed8",
   "metadata": {},
   "source": [
    "#### Model Building:  Atrificial Neural Networks(ANN) in tensorflow/keras"
   ]
  },
  {
   "cell_type": "code",
   "execution_count": 28,
   "id": "8ee4da6d",
   "metadata": {},
   "outputs": [
    {
     "name": "stdout",
     "output_type": "stream",
     "text": [
      "WARNING:tensorflow:From C:\\Users\\m2hasan\\AppData\\Local\\anaconda3\\Lib\\site-packages\\keras\\src\\backend.py:873: The name tf.get_default_graph is deprecated. Please use tf.compat.v1.get_default_graph instead.\n",
      "\n",
      "Model: \"sequential\"\n",
      "_________________________________________________________________\n",
      " Layer (type)                Output Shape              Param #   \n",
      "=================================================================\n",
      " dense (Dense)               (None, 6)                 78        \n",
      "                                                                 \n",
      " dropout (Dropout)           (None, 6)                 0         \n",
      "                                                                 \n",
      " dense_1 (Dense)             (None, 6)                 42        \n",
      "                                                                 \n",
      " dropout_1 (Dropout)         (None, 6)                 0         \n",
      "                                                                 \n",
      " dense_2 (Dense)             (None, 1)                 7         \n",
      "                                                                 \n",
      "=================================================================\n",
      "Total params: 127 (508.00 Byte)\n",
      "Trainable params: 127 (508.00 Byte)\n",
      "Non-trainable params: 0 (0.00 Byte)\n",
      "_________________________________________________________________\n"
     ]
    }
   ],
   "source": [
    "model = keras.Sequential([\n",
    "    keras.layers.Dense(6, input_shape=(X_train.shape[1],), activation='relu'),\n",
    "    keras.layers.Dropout(0.1),\n",
    "    keras.layers.Dense(6, activation='relu'),\n",
    "    keras.layers.Dropout(0.1),\n",
    "    keras.layers.Dense(1, activation='sigmoid')\n",
    "])\n",
    "\n",
    "model.summary()"
   ]
  },
  {
   "cell_type": "code",
   "execution_count": 29,
   "id": "19164c58",
   "metadata": {
    "scrolled": true
   },
   "outputs": [
    {
     "name": "stdout",
     "output_type": "stream",
     "text": [
      "WARNING:tensorflow:From C:\\Users\\m2hasan\\AppData\\Local\\anaconda3\\Lib\\site-packages\\keras\\src\\optimizers\\__init__.py:309: The name tf.train.Optimizer is deprecated. Please use tf.compat.v1.train.Optimizer instead.\n",
      "\n",
      "Epoch 1/200\n",
      "WARNING:tensorflow:From C:\\Users\\m2hasan\\AppData\\Local\\anaconda3\\Lib\\site-packages\\keras\\src\\utils\\tf_utils.py:492: The name tf.ragged.RaggedTensorValue is deprecated. Please use tf.compat.v1.ragged.RaggedTensorValue instead.\n",
      "\n",
      "WARNING:tensorflow:From C:\\Users\\m2hasan\\AppData\\Local\\anaconda3\\Lib\\site-packages\\keras\\src\\engine\\base_layer_utils.py:384: The name tf.executing_eagerly_outside_functions is deprecated. Please use tf.compat.v1.executing_eagerly_outside_functions instead.\n",
      "\n",
      "225/225 - 1s - loss: 0.6157 - accuracy: 0.6632 - val_loss: 0.4860 - val_accuracy: 0.8062 - 1s/epoch - 7ms/step\n",
      "Epoch 2/200\n",
      "225/225 - 0s - loss: 0.5028 - accuracy: 0.7939 - val_loss: 0.4652 - val_accuracy: 0.8062 - 280ms/epoch - 1ms/step\n",
      "Epoch 3/200\n",
      "225/225 - 0s - loss: 0.4898 - accuracy: 0.7946 - val_loss: 0.4518 - val_accuracy: 0.8062 - 274ms/epoch - 1ms/step\n",
      "Epoch 4/200\n",
      "225/225 - 0s - loss: 0.4811 - accuracy: 0.7950 - val_loss: 0.4460 - val_accuracy: 0.8062 - 277ms/epoch - 1ms/step\n",
      "Epoch 5/200\n",
      "225/225 - 0s - loss: 0.4753 - accuracy: 0.7946 - val_loss: 0.4420 - val_accuracy: 0.8062 - 279ms/epoch - 1ms/step\n",
      "Epoch 6/200\n",
      "225/225 - 0s - loss: 0.4626 - accuracy: 0.7947 - val_loss: 0.4377 - val_accuracy: 0.8062 - 280ms/epoch - 1ms/step\n",
      "Epoch 7/200\n",
      "225/225 - 0s - loss: 0.4570 - accuracy: 0.7949 - val_loss: 0.4328 - val_accuracy: 0.8062 - 280ms/epoch - 1ms/step\n",
      "Epoch 8/200\n",
      "225/225 - 0s - loss: 0.4530 - accuracy: 0.7950 - val_loss: 0.4236 - val_accuracy: 0.8062 - 270ms/epoch - 1ms/step\n",
      "Epoch 9/200\n",
      "225/225 - 0s - loss: 0.4488 - accuracy: 0.7951 - val_loss: 0.4184 - val_accuracy: 0.8062 - 270ms/epoch - 1ms/step\n",
      "Epoch 10/200\n",
      "225/225 - 0s - loss: 0.4417 - accuracy: 0.7972 - val_loss: 0.4103 - val_accuracy: 0.8125 - 280ms/epoch - 1ms/step\n",
      "Epoch 11/200\n",
      "225/225 - 0s - loss: 0.4365 - accuracy: 0.7989 - val_loss: 0.4045 - val_accuracy: 0.8238 - 280ms/epoch - 1ms/step\n",
      "Epoch 12/200\n",
      "225/225 - 0s - loss: 0.4332 - accuracy: 0.8050 - val_loss: 0.3984 - val_accuracy: 0.8288 - 280ms/epoch - 1ms/step\n",
      "Epoch 13/200\n",
      "225/225 - 0s - loss: 0.4278 - accuracy: 0.8092 - val_loss: 0.3973 - val_accuracy: 0.8300 - 270ms/epoch - 1ms/step\n",
      "Epoch 14/200\n",
      "225/225 - 0s - loss: 0.4231 - accuracy: 0.8143 - val_loss: 0.3854 - val_accuracy: 0.8313 - 274ms/epoch - 1ms/step\n",
      "Epoch 15/200\n",
      "225/225 - 0s - loss: 0.4187 - accuracy: 0.8158 - val_loss: 0.3827 - val_accuracy: 0.8325 - 325ms/epoch - 1ms/step\n",
      "Epoch 16/200\n",
      "225/225 - 0s - loss: 0.4117 - accuracy: 0.8185 - val_loss: 0.3704 - val_accuracy: 0.8462 - 280ms/epoch - 1ms/step\n",
      "Epoch 17/200\n",
      "225/225 - 0s - loss: 0.4102 - accuracy: 0.8215 - val_loss: 0.3684 - val_accuracy: 0.8363 - 274ms/epoch - 1ms/step\n",
      "Epoch 18/200\n",
      "225/225 - 0s - loss: 0.4026 - accuracy: 0.8238 - val_loss: 0.3614 - val_accuracy: 0.8400 - 271ms/epoch - 1ms/step\n",
      "Epoch 19/200\n",
      "225/225 - 0s - loss: 0.4008 - accuracy: 0.8254 - val_loss: 0.3533 - val_accuracy: 0.8475 - 279ms/epoch - 1ms/step\n",
      "Epoch 20/200\n",
      "225/225 - 0s - loss: 0.3969 - accuracy: 0.8267 - val_loss: 0.3490 - val_accuracy: 0.8462 - 271ms/epoch - 1ms/step\n",
      "Epoch 21/200\n",
      "225/225 - 0s - loss: 0.3944 - accuracy: 0.8306 - val_loss: 0.3449 - val_accuracy: 0.8512 - 281ms/epoch - 1ms/step\n",
      "Epoch 22/200\n",
      "225/225 - 0s - loss: 0.3961 - accuracy: 0.8282 - val_loss: 0.3439 - val_accuracy: 0.8487 - 305ms/epoch - 1ms/step\n",
      "Epoch 23/200\n",
      "225/225 - 0s - loss: 0.3914 - accuracy: 0.8339 - val_loss: 0.3457 - val_accuracy: 0.8475 - 293ms/epoch - 1ms/step\n",
      "Epoch 24/200\n",
      "225/225 - 0s - loss: 0.3894 - accuracy: 0.8329 - val_loss: 0.3397 - val_accuracy: 0.8525 - 317ms/epoch - 1ms/step\n",
      "Epoch 25/200\n",
      "225/225 - 0s - loss: 0.3930 - accuracy: 0.8313 - val_loss: 0.3379 - val_accuracy: 0.8537 - 271ms/epoch - 1ms/step\n",
      "Epoch 26/200\n",
      "225/225 - 0s - loss: 0.3924 - accuracy: 0.8329 - val_loss: 0.3387 - val_accuracy: 0.8512 - 331ms/epoch - 1ms/step\n",
      "Epoch 27/200\n",
      "225/225 - 0s - loss: 0.3904 - accuracy: 0.8332 - val_loss: 0.3377 - val_accuracy: 0.8525 - 338ms/epoch - 2ms/step\n",
      "Epoch 28/200\n",
      "225/225 - 0s - loss: 0.3871 - accuracy: 0.8369 - val_loss: 0.3398 - val_accuracy: 0.8512 - 280ms/epoch - 1ms/step\n",
      "Epoch 29/200\n",
      "225/225 - 0s - loss: 0.3858 - accuracy: 0.8339 - val_loss: 0.3404 - val_accuracy: 0.8525 - 395ms/epoch - 2ms/step\n",
      "Epoch 30/200\n",
      "225/225 - 0s - loss: 0.3835 - accuracy: 0.8363 - val_loss: 0.3341 - val_accuracy: 0.8550 - 467ms/epoch - 2ms/step\n",
      "Epoch 31/200\n",
      "225/225 - 0s - loss: 0.3825 - accuracy: 0.8389 - val_loss: 0.3334 - val_accuracy: 0.8550 - 401ms/epoch - 2ms/step\n",
      "Epoch 32/200\n",
      "225/225 - 1s - loss: 0.3826 - accuracy: 0.8338 - val_loss: 0.3363 - val_accuracy: 0.8562 - 524ms/epoch - 2ms/step\n",
      "Epoch 33/200\n",
      "225/225 - 0s - loss: 0.3844 - accuracy: 0.8363 - val_loss: 0.3336 - val_accuracy: 0.8587 - 281ms/epoch - 1ms/step\n",
      "Epoch 34/200\n",
      "225/225 - 0s - loss: 0.3805 - accuracy: 0.8371 - val_loss: 0.3320 - val_accuracy: 0.8575 - 290ms/epoch - 1ms/step\n",
      "Epoch 35/200\n",
      "225/225 - 0s - loss: 0.3797 - accuracy: 0.8354 - val_loss: 0.3350 - val_accuracy: 0.8525 - 295ms/epoch - 1ms/step\n",
      "Epoch 36/200\n",
      "225/225 - 0s - loss: 0.3855 - accuracy: 0.8350 - val_loss: 0.3362 - val_accuracy: 0.8537 - 385ms/epoch - 2ms/step\n",
      "Epoch 37/200\n",
      "225/225 - 0s - loss: 0.3779 - accuracy: 0.8394 - val_loss: 0.3298 - val_accuracy: 0.8550 - 308ms/epoch - 1ms/step\n",
      "Epoch 38/200\n",
      "225/225 - 0s - loss: 0.3823 - accuracy: 0.8372 - val_loss: 0.3312 - val_accuracy: 0.8587 - 306ms/epoch - 1ms/step\n",
      "Epoch 39/200\n",
      "225/225 - 0s - loss: 0.3811 - accuracy: 0.8328 - val_loss: 0.3363 - val_accuracy: 0.8537 - 349ms/epoch - 2ms/step\n",
      "Epoch 40/200\n",
      "225/225 - 0s - loss: 0.3788 - accuracy: 0.8375 - val_loss: 0.3308 - val_accuracy: 0.8575 - 325ms/epoch - 1ms/step\n",
      "Epoch 41/200\n",
      "225/225 - 0s - loss: 0.3775 - accuracy: 0.8425 - val_loss: 0.3310 - val_accuracy: 0.8550 - 281ms/epoch - 1ms/step\n",
      "Epoch 42/200\n",
      "225/225 - 0s - loss: 0.3797 - accuracy: 0.8336 - val_loss: 0.3332 - val_accuracy: 0.8562 - 281ms/epoch - 1ms/step\n",
      "Epoch 43/200\n",
      "225/225 - 0s - loss: 0.3766 - accuracy: 0.8393 - val_loss: 0.3304 - val_accuracy: 0.8612 - 278ms/epoch - 1ms/step\n",
      "Epoch 44/200\n",
      "225/225 - 0s - loss: 0.3791 - accuracy: 0.8400 - val_loss: 0.3309 - val_accuracy: 0.8562 - 306ms/epoch - 1ms/step\n",
      "Epoch 45/200\n",
      "225/225 - 0s - loss: 0.3777 - accuracy: 0.8392 - val_loss: 0.3293 - val_accuracy: 0.8600 - 298ms/epoch - 1ms/step\n",
      "Epoch 46/200\n",
      "225/225 - 0s - loss: 0.3760 - accuracy: 0.8388 - val_loss: 0.3300 - val_accuracy: 0.8562 - 271ms/epoch - 1ms/step\n",
      "Epoch 47/200\n",
      "225/225 - 0s - loss: 0.3779 - accuracy: 0.8392 - val_loss: 0.3287 - val_accuracy: 0.8550 - 299ms/epoch - 1ms/step\n",
      "Epoch 48/200\n",
      "225/225 - 0s - loss: 0.3752 - accuracy: 0.8350 - val_loss: 0.3311 - val_accuracy: 0.8625 - 287ms/epoch - 1ms/step\n",
      "Epoch 49/200\n",
      "225/225 - 0s - loss: 0.3776 - accuracy: 0.8360 - val_loss: 0.3290 - val_accuracy: 0.8612 - 313ms/epoch - 1ms/step\n",
      "Epoch 50/200\n",
      "225/225 - 0s - loss: 0.3812 - accuracy: 0.8404 - val_loss: 0.3320 - val_accuracy: 0.8637 - 290ms/epoch - 1ms/step\n",
      "Epoch 51/200\n",
      "225/225 - 0s - loss: 0.3771 - accuracy: 0.8381 - val_loss: 0.3305 - val_accuracy: 0.8650 - 290ms/epoch - 1ms/step\n",
      "Epoch 52/200\n",
      "225/225 - 0s - loss: 0.3779 - accuracy: 0.8394 - val_loss: 0.3323 - val_accuracy: 0.8587 - 303ms/epoch - 1ms/step\n",
      "Epoch 53/200\n",
      "225/225 - 0s - loss: 0.3744 - accuracy: 0.8376 - val_loss: 0.3323 - val_accuracy: 0.8637 - 287ms/epoch - 1ms/step\n",
      "Epoch 54/200\n",
      "225/225 - 0s - loss: 0.3778 - accuracy: 0.8340 - val_loss: 0.3287 - val_accuracy: 0.8637 - 292ms/epoch - 1ms/step\n",
      "Epoch 55/200\n",
      "225/225 - 0s - loss: 0.3791 - accuracy: 0.8372 - val_loss: 0.3281 - val_accuracy: 0.8612 - 295ms/epoch - 1ms/step\n",
      "Epoch 56/200\n",
      "225/225 - 0s - loss: 0.3756 - accuracy: 0.8372 - val_loss: 0.3292 - val_accuracy: 0.8600 - 292ms/epoch - 1ms/step\n",
      "Epoch 57/200\n",
      "225/225 - 0s - loss: 0.3775 - accuracy: 0.8371 - val_loss: 0.3289 - val_accuracy: 0.8587 - 345ms/epoch - 2ms/step\n",
      "Epoch 58/200\n",
      "225/225 - 0s - loss: 0.3746 - accuracy: 0.8393 - val_loss: 0.3287 - val_accuracy: 0.8600 - 305ms/epoch - 1ms/step\n",
      "Epoch 59/200\n",
      "225/225 - 0s - loss: 0.3742 - accuracy: 0.8390 - val_loss: 0.3262 - val_accuracy: 0.8675 - 283ms/epoch - 1ms/step\n",
      "Epoch 60/200\n"
     ]
    },
    {
     "name": "stdout",
     "output_type": "stream",
     "text": [
      "225/225 - 0s - loss: 0.3737 - accuracy: 0.8393 - val_loss: 0.3279 - val_accuracy: 0.8600 - 285ms/epoch - 1ms/step\n",
      "Epoch 61/200\n",
      "225/225 - 0s - loss: 0.3794 - accuracy: 0.8347 - val_loss: 0.3280 - val_accuracy: 0.8625 - 283ms/epoch - 1ms/step\n",
      "Epoch 62/200\n",
      "225/225 - 0s - loss: 0.3775 - accuracy: 0.8383 - val_loss: 0.3293 - val_accuracy: 0.8600 - 292ms/epoch - 1ms/step\n",
      "Epoch 63/200\n",
      "225/225 - 0s - loss: 0.3754 - accuracy: 0.8363 - val_loss: 0.3281 - val_accuracy: 0.8625 - 281ms/epoch - 1ms/step\n",
      "Epoch 64/200\n",
      "225/225 - 0s - loss: 0.3769 - accuracy: 0.8381 - val_loss: 0.3256 - val_accuracy: 0.8625 - 288ms/epoch - 1ms/step\n",
      "Epoch 65/200\n",
      "225/225 - 0s - loss: 0.3726 - accuracy: 0.8406 - val_loss: 0.3279 - val_accuracy: 0.8562 - 311ms/epoch - 1ms/step\n",
      "Epoch 66/200\n",
      "225/225 - 0s - loss: 0.3772 - accuracy: 0.8374 - val_loss: 0.3299 - val_accuracy: 0.8600 - 298ms/epoch - 1ms/step\n",
      "Epoch 67/200\n",
      "225/225 - 0s - loss: 0.3739 - accuracy: 0.8396 - val_loss: 0.3265 - val_accuracy: 0.8637 - 285ms/epoch - 1ms/step\n",
      "Epoch 68/200\n",
      "225/225 - 0s - loss: 0.3715 - accuracy: 0.8422 - val_loss: 0.3261 - val_accuracy: 0.8612 - 294ms/epoch - 1ms/step\n",
      "Epoch 69/200\n",
      "225/225 - 0s - loss: 0.3770 - accuracy: 0.8364 - val_loss: 0.3257 - val_accuracy: 0.8712 - 291ms/epoch - 1ms/step\n",
      "Epoch 70/200\n",
      "225/225 - 0s - loss: 0.3754 - accuracy: 0.8368 - val_loss: 0.3269 - val_accuracy: 0.8637 - 289ms/epoch - 1ms/step\n",
      "Epoch 71/200\n",
      "225/225 - 0s - loss: 0.3687 - accuracy: 0.8393 - val_loss: 0.3246 - val_accuracy: 0.8625 - 280ms/epoch - 1ms/step\n",
      "Epoch 72/200\n",
      "225/225 - 0s - loss: 0.3756 - accuracy: 0.8407 - val_loss: 0.3258 - val_accuracy: 0.8662 - 302ms/epoch - 1ms/step\n",
      "Epoch 73/200\n",
      "225/225 - 0s - loss: 0.3730 - accuracy: 0.8388 - val_loss: 0.3259 - val_accuracy: 0.8675 - 307ms/epoch - 1ms/step\n",
      "Epoch 74/200\n",
      "225/225 - 0s - loss: 0.3754 - accuracy: 0.8385 - val_loss: 0.3282 - val_accuracy: 0.8612 - 290ms/epoch - 1ms/step\n",
      "Epoch 75/200\n",
      "225/225 - 0s - loss: 0.3724 - accuracy: 0.8358 - val_loss: 0.3287 - val_accuracy: 0.8650 - 270ms/epoch - 1ms/step\n",
      "Epoch 76/200\n",
      "225/225 - 0s - loss: 0.3754 - accuracy: 0.8364 - val_loss: 0.3308 - val_accuracy: 0.8600 - 275ms/epoch - 1ms/step\n",
      "Epoch 77/200\n",
      "225/225 - 0s - loss: 0.3695 - accuracy: 0.8424 - val_loss: 0.3270 - val_accuracy: 0.8700 - 283ms/epoch - 1ms/step\n",
      "Epoch 78/200\n",
      "225/225 - 0s - loss: 0.3734 - accuracy: 0.8379 - val_loss: 0.3242 - val_accuracy: 0.8662 - 269ms/epoch - 1ms/step\n",
      "Epoch 79/200\n",
      "225/225 - 0s - loss: 0.3752 - accuracy: 0.8388 - val_loss: 0.3269 - val_accuracy: 0.8712 - 289ms/epoch - 1ms/step\n",
      "Epoch 80/200\n",
      "225/225 - 0s - loss: 0.3736 - accuracy: 0.8400 - val_loss: 0.3266 - val_accuracy: 0.8725 - 291ms/epoch - 1ms/step\n",
      "Epoch 81/200\n",
      "225/225 - 0s - loss: 0.3742 - accuracy: 0.8360 - val_loss: 0.3257 - val_accuracy: 0.8662 - 281ms/epoch - 1ms/step\n",
      "Epoch 82/200\n",
      "225/225 - 0s - loss: 0.3733 - accuracy: 0.8406 - val_loss: 0.3240 - val_accuracy: 0.8675 - 299ms/epoch - 1ms/step\n",
      "Epoch 83/200\n",
      "225/225 - 0s - loss: 0.3729 - accuracy: 0.8383 - val_loss: 0.3252 - val_accuracy: 0.8687 - 279ms/epoch - 1ms/step\n",
      "Epoch 84/200\n",
      "225/225 - 0s - loss: 0.3704 - accuracy: 0.8407 - val_loss: 0.3287 - val_accuracy: 0.8675 - 282ms/epoch - 1ms/step\n",
      "Epoch 85/200\n",
      "225/225 - 0s - loss: 0.3745 - accuracy: 0.8375 - val_loss: 0.3243 - val_accuracy: 0.8662 - 278ms/epoch - 1ms/step\n",
      "Epoch 86/200\n",
      "225/225 - 0s - loss: 0.3734 - accuracy: 0.8360 - val_loss: 0.3267 - val_accuracy: 0.8725 - 280ms/epoch - 1ms/step\n",
      "Epoch 87/200\n",
      "225/225 - 0s - loss: 0.3730 - accuracy: 0.8407 - val_loss: 0.3273 - val_accuracy: 0.8675 - 281ms/epoch - 1ms/step\n",
      "Epoch 88/200\n",
      "225/225 - 0s - loss: 0.3720 - accuracy: 0.8397 - val_loss: 0.3263 - val_accuracy: 0.8662 - 279ms/epoch - 1ms/step\n",
      "Epoch 89/200\n",
      "225/225 - 0s - loss: 0.3716 - accuracy: 0.8396 - val_loss: 0.3282 - val_accuracy: 0.8700 - 275ms/epoch - 1ms/step\n",
      "Epoch 90/200\n",
      "225/225 - 0s - loss: 0.3733 - accuracy: 0.8397 - val_loss: 0.3249 - val_accuracy: 0.8662 - 269ms/epoch - 1ms/step\n",
      "Epoch 91/200\n",
      "225/225 - 0s - loss: 0.3729 - accuracy: 0.8393 - val_loss: 0.3270 - val_accuracy: 0.8700 - 278ms/epoch - 1ms/step\n",
      "Epoch 92/200\n",
      "225/225 - 0s - loss: 0.3701 - accuracy: 0.8424 - val_loss: 0.3268 - val_accuracy: 0.8625 - 270ms/epoch - 1ms/step\n",
      "Epoch 93/200\n",
      "225/225 - 0s - loss: 0.3734 - accuracy: 0.8396 - val_loss: 0.3239 - val_accuracy: 0.8750 - 286ms/epoch - 1ms/step\n",
      "Epoch 94/200\n",
      "225/225 - 0s - loss: 0.3744 - accuracy: 0.8358 - val_loss: 0.3252 - val_accuracy: 0.8687 - 287ms/epoch - 1ms/step\n",
      "Epoch 95/200\n",
      "225/225 - 0s - loss: 0.3727 - accuracy: 0.8406 - val_loss: 0.3251 - val_accuracy: 0.8725 - 268ms/epoch - 1ms/step\n",
      "Epoch 96/200\n",
      "225/225 - 0s - loss: 0.3757 - accuracy: 0.8383 - val_loss: 0.3247 - val_accuracy: 0.8712 - 314ms/epoch - 1ms/step\n",
      "Epoch 97/200\n",
      "225/225 - 0s - loss: 0.3700 - accuracy: 0.8399 - val_loss: 0.3285 - val_accuracy: 0.8662 - 323ms/epoch - 1ms/step\n",
      "Epoch 98/200\n",
      "225/225 - 0s - loss: 0.3719 - accuracy: 0.8394 - val_loss: 0.3252 - val_accuracy: 0.8750 - 327ms/epoch - 1ms/step\n",
      "Epoch 99/200\n",
      "225/225 - 0s - loss: 0.3743 - accuracy: 0.8378 - val_loss: 0.3265 - val_accuracy: 0.8712 - 340ms/epoch - 2ms/step\n",
      "Epoch 100/200\n",
      "225/225 - 0s - loss: 0.3703 - accuracy: 0.8385 - val_loss: 0.3278 - val_accuracy: 0.8725 - 332ms/epoch - 1ms/step\n",
      "Epoch 101/200\n",
      "225/225 - 0s - loss: 0.3698 - accuracy: 0.8388 - val_loss: 0.3238 - val_accuracy: 0.8662 - 320ms/epoch - 1ms/step\n",
      "Epoch 102/200\n",
      "225/225 - 0s - loss: 0.3743 - accuracy: 0.8375 - val_loss: 0.3276 - val_accuracy: 0.8700 - 322ms/epoch - 1ms/step\n",
      "Epoch 103/200\n",
      "225/225 - 0s - loss: 0.3727 - accuracy: 0.8404 - val_loss: 0.3247 - val_accuracy: 0.8712 - 320ms/epoch - 1ms/step\n",
      "Epoch 104/200\n",
      "225/225 - 0s - loss: 0.3701 - accuracy: 0.8411 - val_loss: 0.3236 - val_accuracy: 0.8700 - 319ms/epoch - 1ms/step\n",
      "Epoch 105/200\n",
      "225/225 - 0s - loss: 0.3734 - accuracy: 0.8401 - val_loss: 0.3247 - val_accuracy: 0.8737 - 285ms/epoch - 1ms/step\n",
      "Epoch 106/200\n",
      "225/225 - 0s - loss: 0.3702 - accuracy: 0.8415 - val_loss: 0.3253 - val_accuracy: 0.8737 - 287ms/epoch - 1ms/step\n",
      "Epoch 107/200\n",
      "225/225 - 0s - loss: 0.3738 - accuracy: 0.8415 - val_loss: 0.3254 - val_accuracy: 0.8737 - 293ms/epoch - 1ms/step\n",
      "Epoch 108/200\n",
      "225/225 - 0s - loss: 0.3708 - accuracy: 0.8386 - val_loss: 0.3257 - val_accuracy: 0.8712 - 285ms/epoch - 1ms/step\n",
      "Epoch 109/200\n",
      "225/225 - 0s - loss: 0.3735 - accuracy: 0.8385 - val_loss: 0.3248 - val_accuracy: 0.8662 - 465ms/epoch - 2ms/step\n",
      "Epoch 110/200\n",
      "225/225 - 0s - loss: 0.3715 - accuracy: 0.8392 - val_loss: 0.3240 - val_accuracy: 0.8687 - 279ms/epoch - 1ms/step\n",
      "Epoch 111/200\n",
      "225/225 - 0s - loss: 0.3712 - accuracy: 0.8417 - val_loss: 0.3227 - val_accuracy: 0.8712 - 271ms/epoch - 1ms/step\n",
      "Epoch 112/200\n",
      "225/225 - 0s - loss: 0.3708 - accuracy: 0.8417 - val_loss: 0.3236 - val_accuracy: 0.8687 - 274ms/epoch - 1ms/step\n",
      "Epoch 113/200\n",
      "225/225 - 0s - loss: 0.3712 - accuracy: 0.8396 - val_loss: 0.3238 - val_accuracy: 0.8700 - 279ms/epoch - 1ms/step\n",
      "Epoch 114/200\n",
      "225/225 - 0s - loss: 0.3725 - accuracy: 0.8385 - val_loss: 0.3259 - val_accuracy: 0.8687 - 286ms/epoch - 1ms/step\n",
      "Epoch 115/200\n",
      "225/225 - 0s - loss: 0.3688 - accuracy: 0.8389 - val_loss: 0.3217 - val_accuracy: 0.8700 - 268ms/epoch - 1ms/step\n",
      "Epoch 116/200\n",
      "225/225 - 0s - loss: 0.3705 - accuracy: 0.8400 - val_loss: 0.3218 - val_accuracy: 0.8712 - 285ms/epoch - 1ms/step\n",
      "Epoch 117/200\n",
      "225/225 - 0s - loss: 0.3726 - accuracy: 0.8392 - val_loss: 0.3248 - val_accuracy: 0.8712 - 279ms/epoch - 1ms/step\n",
      "Epoch 118/200\n",
      "225/225 - 0s - loss: 0.3699 - accuracy: 0.8407 - val_loss: 0.3224 - val_accuracy: 0.8700 - 285ms/epoch - 1ms/step\n",
      "Epoch 119/200\n",
      "225/225 - 0s - loss: 0.3721 - accuracy: 0.8418 - val_loss: 0.3261 - val_accuracy: 0.8675 - 280ms/epoch - 1ms/step\n",
      "Epoch 120/200\n",
      "225/225 - 0s - loss: 0.3687 - accuracy: 0.8425 - val_loss: 0.3239 - val_accuracy: 0.8712 - 290ms/epoch - 1ms/step\n",
      "Epoch 121/200\n",
      "225/225 - 0s - loss: 0.3698 - accuracy: 0.8383 - val_loss: 0.3235 - val_accuracy: 0.8675 - 270ms/epoch - 1ms/step\n",
      "Epoch 122/200\n",
      "225/225 - 0s - loss: 0.3679 - accuracy: 0.8418 - val_loss: 0.3237 - val_accuracy: 0.8637 - 285ms/epoch - 1ms/step\n",
      "Epoch 123/200\n",
      "225/225 - 0s - loss: 0.3715 - accuracy: 0.8369 - val_loss: 0.3277 - val_accuracy: 0.8637 - 279ms/epoch - 1ms/step\n",
      "Epoch 124/200\n",
      "225/225 - 0s - loss: 0.3746 - accuracy: 0.8369 - val_loss: 0.3230 - val_accuracy: 0.8725 - 269ms/epoch - 1ms/step\n"
     ]
    },
    {
     "name": "stdout",
     "output_type": "stream",
     "text": [
      "Epoch 125/200\n",
      "225/225 - 0s - loss: 0.3692 - accuracy: 0.8419 - val_loss: 0.3238 - val_accuracy: 0.8687 - 285ms/epoch - 1ms/step\n",
      "Epoch 126/200\n",
      "225/225 - 0s - loss: 0.3673 - accuracy: 0.8411 - val_loss: 0.3221 - val_accuracy: 0.8725 - 285ms/epoch - 1ms/step\n",
      "Epoch 127/200\n",
      "225/225 - 0s - loss: 0.3685 - accuracy: 0.8399 - val_loss: 0.3216 - val_accuracy: 0.8712 - 272ms/epoch - 1ms/step\n",
      "Epoch 128/200\n",
      "225/225 - 0s - loss: 0.3704 - accuracy: 0.8397 - val_loss: 0.3209 - val_accuracy: 0.8725 - 280ms/epoch - 1ms/step\n",
      "Epoch 129/200\n",
      "225/225 - 0s - loss: 0.3711 - accuracy: 0.8365 - val_loss: 0.3230 - val_accuracy: 0.8737 - 279ms/epoch - 1ms/step\n",
      "Epoch 130/200\n",
      "225/225 - 0s - loss: 0.3711 - accuracy: 0.8382 - val_loss: 0.3211 - val_accuracy: 0.8750 - 290ms/epoch - 1ms/step\n",
      "Epoch 131/200\n",
      "225/225 - 0s - loss: 0.3716 - accuracy: 0.8389 - val_loss: 0.3227 - val_accuracy: 0.8712 - 270ms/epoch - 1ms/step\n",
      "Epoch 132/200\n",
      "225/225 - 0s - loss: 0.3688 - accuracy: 0.8428 - val_loss: 0.3205 - val_accuracy: 0.8737 - 285ms/epoch - 1ms/step\n",
      "Epoch 133/200\n",
      "225/225 - 0s - loss: 0.3670 - accuracy: 0.8396 - val_loss: 0.3254 - val_accuracy: 0.8662 - 279ms/epoch - 1ms/step\n",
      "Epoch 134/200\n",
      "225/225 - 0s - loss: 0.3693 - accuracy: 0.8428 - val_loss: 0.3240 - val_accuracy: 0.8687 - 285ms/epoch - 1ms/step\n",
      "Epoch 135/200\n",
      "225/225 - 0s - loss: 0.3690 - accuracy: 0.8428 - val_loss: 0.3208 - val_accuracy: 0.8750 - 285ms/epoch - 1ms/step\n",
      "Epoch 136/200\n",
      "225/225 - 0s - loss: 0.3690 - accuracy: 0.8383 - val_loss: 0.3215 - val_accuracy: 0.8700 - 301ms/epoch - 1ms/step\n",
      "Epoch 137/200\n",
      "225/225 - 0s - loss: 0.3647 - accuracy: 0.8401 - val_loss: 0.3204 - val_accuracy: 0.8712 - 285ms/epoch - 1ms/step\n",
      "Epoch 138/200\n",
      "225/225 - 0s - loss: 0.3710 - accuracy: 0.8404 - val_loss: 0.3224 - val_accuracy: 0.8700 - 270ms/epoch - 1ms/step\n",
      "Epoch 139/200\n",
      "225/225 - 0s - loss: 0.3688 - accuracy: 0.8396 - val_loss: 0.3214 - val_accuracy: 0.8737 - 285ms/epoch - 1ms/step\n",
      "Epoch 140/200\n",
      "225/225 - 0s - loss: 0.3665 - accuracy: 0.8392 - val_loss: 0.3213 - val_accuracy: 0.8712 - 271ms/epoch - 1ms/step\n",
      "Epoch 141/200\n",
      "225/225 - 0s - loss: 0.3676 - accuracy: 0.8406 - val_loss: 0.3198 - val_accuracy: 0.8700 - 284ms/epoch - 1ms/step\n",
      "Epoch 142/200\n",
      "225/225 - 0s - loss: 0.3693 - accuracy: 0.8394 - val_loss: 0.3195 - val_accuracy: 0.8725 - 293ms/epoch - 1ms/step\n",
      "Epoch 143/200\n",
      "225/225 - 0s - loss: 0.3699 - accuracy: 0.8389 - val_loss: 0.3212 - val_accuracy: 0.8725 - 284ms/epoch - 1ms/step\n",
      "Epoch 144/200\n",
      "225/225 - 0s - loss: 0.3696 - accuracy: 0.8383 - val_loss: 0.3205 - val_accuracy: 0.8737 - 279ms/epoch - 1ms/step\n",
      "Epoch 145/200\n",
      "225/225 - 0s - loss: 0.3663 - accuracy: 0.8411 - val_loss: 0.3198 - val_accuracy: 0.8700 - 283ms/epoch - 1ms/step\n",
      "Epoch 146/200\n",
      "225/225 - 0s - loss: 0.3701 - accuracy: 0.8403 - val_loss: 0.3210 - val_accuracy: 0.8737 - 297ms/epoch - 1ms/step\n",
      "Epoch 147/200\n",
      "225/225 - 0s - loss: 0.3674 - accuracy: 0.8408 - val_loss: 0.3190 - val_accuracy: 0.8737 - 290ms/epoch - 1ms/step\n",
      "Epoch 148/200\n",
      "225/225 - 0s - loss: 0.3696 - accuracy: 0.8396 - val_loss: 0.3191 - val_accuracy: 0.8737 - 265ms/epoch - 1ms/step\n",
      "Epoch 149/200\n",
      "225/225 - 0s - loss: 0.3740 - accuracy: 0.8358 - val_loss: 0.3197 - val_accuracy: 0.8750 - 319ms/epoch - 1ms/step\n",
      "Epoch 150/200\n",
      "225/225 - 0s - loss: 0.3675 - accuracy: 0.8385 - val_loss: 0.3186 - val_accuracy: 0.8725 - 284ms/epoch - 1ms/step\n",
      "Epoch 151/200\n",
      "225/225 - 0s - loss: 0.3686 - accuracy: 0.8388 - val_loss: 0.3199 - val_accuracy: 0.8737 - 274ms/epoch - 1ms/step\n",
      "Epoch 152/200\n",
      "225/225 - 0s - loss: 0.3663 - accuracy: 0.8404 - val_loss: 0.3204 - val_accuracy: 0.8763 - 325ms/epoch - 1ms/step\n",
      "Epoch 153/200\n",
      "225/225 - 0s - loss: 0.3660 - accuracy: 0.8407 - val_loss: 0.3191 - val_accuracy: 0.8750 - 298ms/epoch - 1ms/step\n",
      "Epoch 154/200\n",
      "225/225 - 0s - loss: 0.3662 - accuracy: 0.8401 - val_loss: 0.3201 - val_accuracy: 0.8750 - 338ms/epoch - 2ms/step\n",
      "Epoch 155/200\n",
      "225/225 - 0s - loss: 0.3699 - accuracy: 0.8407 - val_loss: 0.3199 - val_accuracy: 0.8737 - 375ms/epoch - 2ms/step\n",
      "Epoch 156/200\n",
      "225/225 - 0s - loss: 0.3679 - accuracy: 0.8399 - val_loss: 0.3195 - val_accuracy: 0.8687 - 291ms/epoch - 1ms/step\n",
      "Epoch 157/200\n",
      "225/225 - 0s - loss: 0.3669 - accuracy: 0.8375 - val_loss: 0.3182 - val_accuracy: 0.8712 - 330ms/epoch - 1ms/step\n",
      "Epoch 158/200\n",
      "225/225 - 0s - loss: 0.3638 - accuracy: 0.8457 - val_loss: 0.3185 - val_accuracy: 0.8737 - 315ms/epoch - 1ms/step\n",
      "Epoch 159/200\n",
      "225/225 - 0s - loss: 0.3634 - accuracy: 0.8431 - val_loss: 0.3170 - val_accuracy: 0.8763 - 326ms/epoch - 1ms/step\n",
      "Epoch 160/200\n",
      "225/225 - 0s - loss: 0.3655 - accuracy: 0.8426 - val_loss: 0.3216 - val_accuracy: 0.8700 - 338ms/epoch - 2ms/step\n",
      "Epoch 161/200\n",
      "225/225 - 0s - loss: 0.3684 - accuracy: 0.8410 - val_loss: 0.3201 - val_accuracy: 0.8712 - 296ms/epoch - 1ms/step\n",
      "Epoch 162/200\n",
      "225/225 - 0s - loss: 0.3694 - accuracy: 0.8421 - val_loss: 0.3216 - val_accuracy: 0.8700 - 327ms/epoch - 1ms/step\n",
      "Epoch 163/200\n",
      "225/225 - 0s - loss: 0.3708 - accuracy: 0.8401 - val_loss: 0.3194 - val_accuracy: 0.8725 - 279ms/epoch - 1ms/step\n",
      "Epoch 164/200\n",
      "225/225 - 0s - loss: 0.3646 - accuracy: 0.8450 - val_loss: 0.3184 - val_accuracy: 0.8775 - 279ms/epoch - 1ms/step\n",
      "Epoch 165/200\n",
      "225/225 - 0s - loss: 0.3662 - accuracy: 0.8411 - val_loss: 0.3166 - val_accuracy: 0.8763 - 285ms/epoch - 1ms/step\n",
      "Epoch 166/200\n",
      "225/225 - 0s - loss: 0.3650 - accuracy: 0.8436 - val_loss: 0.3178 - val_accuracy: 0.8725 - 269ms/epoch - 1ms/step\n",
      "Epoch 167/200\n",
      "225/225 - 0s - loss: 0.3663 - accuracy: 0.8428 - val_loss: 0.3179 - val_accuracy: 0.8750 - 287ms/epoch - 1ms/step\n",
      "Epoch 168/200\n",
      "225/225 - 0s - loss: 0.3657 - accuracy: 0.8444 - val_loss: 0.3185 - val_accuracy: 0.8775 - 269ms/epoch - 1ms/step\n",
      "Epoch 169/200\n",
      "225/225 - 0s - loss: 0.3675 - accuracy: 0.8410 - val_loss: 0.3154 - val_accuracy: 0.8737 - 290ms/epoch - 1ms/step\n",
      "Epoch 170/200\n",
      "225/225 - 0s - loss: 0.3666 - accuracy: 0.8392 - val_loss: 0.3155 - val_accuracy: 0.8788 - 269ms/epoch - 1ms/step\n",
      "Epoch 171/200\n",
      "225/225 - 0s - loss: 0.3646 - accuracy: 0.8422 - val_loss: 0.3186 - val_accuracy: 0.8763 - 277ms/epoch - 1ms/step\n",
      "Epoch 172/200\n",
      "225/225 - 0s - loss: 0.3664 - accuracy: 0.8456 - val_loss: 0.3156 - val_accuracy: 0.8737 - 278ms/epoch - 1ms/step\n",
      "Epoch 173/200\n",
      "225/225 - 0s - loss: 0.3665 - accuracy: 0.8422 - val_loss: 0.3179 - val_accuracy: 0.8725 - 286ms/epoch - 1ms/step\n",
      "Epoch 174/200\n",
      "225/225 - 0s - loss: 0.3637 - accuracy: 0.8449 - val_loss: 0.3156 - val_accuracy: 0.8775 - 285ms/epoch - 1ms/step\n",
      "Epoch 175/200\n",
      "225/225 - 0s - loss: 0.3648 - accuracy: 0.8439 - val_loss: 0.3157 - val_accuracy: 0.8725 - 289ms/epoch - 1ms/step\n",
      "Epoch 176/200\n",
      "225/225 - 0s - loss: 0.3678 - accuracy: 0.8389 - val_loss: 0.3165 - val_accuracy: 0.8763 - 282ms/epoch - 1ms/step\n",
      "Epoch 177/200\n",
      "225/225 - 0s - loss: 0.3657 - accuracy: 0.8424 - val_loss: 0.3146 - val_accuracy: 0.8775 - 285ms/epoch - 1ms/step\n",
      "Epoch 178/200\n",
      "225/225 - 0s - loss: 0.3660 - accuracy: 0.8432 - val_loss: 0.3139 - val_accuracy: 0.8775 - 309ms/epoch - 1ms/step\n",
      "Epoch 179/200\n",
      "225/225 - 0s - loss: 0.3662 - accuracy: 0.8403 - val_loss: 0.3166 - val_accuracy: 0.8763 - 280ms/epoch - 1ms/step\n",
      "Epoch 180/200\n",
      "225/225 - 0s - loss: 0.3654 - accuracy: 0.8414 - val_loss: 0.3170 - val_accuracy: 0.8725 - 310ms/epoch - 1ms/step\n",
      "Epoch 181/200\n",
      "225/225 - 0s - loss: 0.3655 - accuracy: 0.8432 - val_loss: 0.3124 - val_accuracy: 0.8775 - 268ms/epoch - 1ms/step\n",
      "Epoch 182/200\n",
      "225/225 - 0s - loss: 0.3657 - accuracy: 0.8414 - val_loss: 0.3155 - val_accuracy: 0.8763 - 271ms/epoch - 1ms/step\n",
      "Epoch 183/200\n",
      "225/225 - 0s - loss: 0.3638 - accuracy: 0.8451 - val_loss: 0.3139 - val_accuracy: 0.8775 - 269ms/epoch - 1ms/step\n",
      "Epoch 184/200\n",
      "225/225 - 0s - loss: 0.3613 - accuracy: 0.8447 - val_loss: 0.3152 - val_accuracy: 0.8750 - 290ms/epoch - 1ms/step\n",
      "Epoch 185/200\n",
      "225/225 - 0s - loss: 0.3586 - accuracy: 0.8433 - val_loss: 0.3119 - val_accuracy: 0.8763 - 304ms/epoch - 1ms/step\n",
      "Epoch 186/200\n",
      "225/225 - 0s - loss: 0.3659 - accuracy: 0.8446 - val_loss: 0.3151 - val_accuracy: 0.8763 - 280ms/epoch - 1ms/step\n",
      "Epoch 187/200\n",
      "225/225 - 0s - loss: 0.3640 - accuracy: 0.8440 - val_loss: 0.3149 - val_accuracy: 0.8725 - 273ms/epoch - 1ms/step\n",
      "Epoch 188/200\n",
      "225/225 - 0s - loss: 0.3632 - accuracy: 0.8467 - val_loss: 0.3130 - val_accuracy: 0.8763 - 285ms/epoch - 1ms/step\n",
      "Epoch 189/200\n"
     ]
    },
    {
     "name": "stdout",
     "output_type": "stream",
     "text": [
      "225/225 - 0s - loss: 0.3611 - accuracy: 0.8471 - val_loss: 0.3121 - val_accuracy: 0.8750 - 285ms/epoch - 1ms/step\n",
      "Epoch 190/200\n",
      "225/225 - 0s - loss: 0.3630 - accuracy: 0.8425 - val_loss: 0.3145 - val_accuracy: 0.8763 - 337ms/epoch - 1ms/step\n",
      "Epoch 191/200\n",
      "225/225 - 0s - loss: 0.3609 - accuracy: 0.8476 - val_loss: 0.3129 - val_accuracy: 0.8763 - 324ms/epoch - 1ms/step\n",
      "Epoch 192/200\n",
      "225/225 - 0s - loss: 0.3611 - accuracy: 0.8450 - val_loss: 0.3117 - val_accuracy: 0.8763 - 340ms/epoch - 2ms/step\n",
      "Epoch 193/200\n",
      "225/225 - 0s - loss: 0.3617 - accuracy: 0.8447 - val_loss: 0.3124 - val_accuracy: 0.8750 - 353ms/epoch - 2ms/step\n",
      "Epoch 194/200\n",
      "225/225 - 0s - loss: 0.3633 - accuracy: 0.8436 - val_loss: 0.3135 - val_accuracy: 0.8750 - 323ms/epoch - 1ms/step\n",
      "Epoch 195/200\n",
      "225/225 - 0s - loss: 0.3663 - accuracy: 0.8439 - val_loss: 0.3131 - val_accuracy: 0.8775 - 340ms/epoch - 2ms/step\n",
      "Epoch 196/200\n",
      "225/225 - 0s - loss: 0.3635 - accuracy: 0.8454 - val_loss: 0.3120 - val_accuracy: 0.8775 - 345ms/epoch - 2ms/step\n",
      "Epoch 197/200\n",
      "225/225 - 0s - loss: 0.3621 - accuracy: 0.8465 - val_loss: 0.3123 - val_accuracy: 0.8763 - 341ms/epoch - 2ms/step\n",
      "Epoch 198/200\n",
      "225/225 - 0s - loss: 0.3629 - accuracy: 0.8472 - val_loss: 0.3127 - val_accuracy: 0.8775 - 349ms/epoch - 2ms/step\n",
      "Epoch 199/200\n",
      "225/225 - 0s - loss: 0.3604 - accuracy: 0.8450 - val_loss: 0.3143 - val_accuracy: 0.8725 - 349ms/epoch - 2ms/step\n",
      "Epoch 200/200\n",
      "225/225 - 0s - loss: 0.3630 - accuracy: 0.8472 - val_loss: 0.3138 - val_accuracy: 0.8750 - 340ms/epoch - 2ms/step\n"
     ]
    }
   ],
   "source": [
    "model.compile(optimizer='adam',\n",
    "              loss='binary_crossentropy',\n",
    "              metrics=['accuracy'])\n",
    "\n",
    "history =  model.fit(X_train, y_train, batch_size=32, epochs=200, validation_split=0.1, verbose=2)"
   ]
  },
  {
   "cell_type": "code",
   "execution_count": 30,
   "id": "77f7ec1b",
   "metadata": {},
   "outputs": [
    {
     "name": "stdout",
     "output_type": "stream",
     "text": [
      "dict_keys(['loss', 'accuracy', 'val_loss', 'val_accuracy'])\n"
     ]
    }
   ],
   "source": [
    "print(history.history.keys())"
   ]
  },
  {
   "cell_type": "code",
   "execution_count": 31,
   "id": "73671e83",
   "metadata": {
    "scrolled": false
   },
   "outputs": [
    {
     "data": {
      "image/png": "[encoded data removed]",
      "text/plain": [
       "<Figure size 640x480 with 1 Axes>"
      ]
     },
     "metadata": {},
     "output_type": "display_data"
    }
   ],
   "source": [
    "plt.plot(np.array(history.history['accuracy']) * 100)\n",
    "plt.plot(np.array(history.history['val_accuracy']) * 100)\n",
    "plt.ylabel('accuracy')\n",
    "plt.xlabel('epochs')\n",
    "plt.legend(['Training', 'Validation'])\n",
    "plt.title('Accuracy over epochs')\n",
    "plt.show()"
   ]
  },
  {
   "cell_type": "code",
   "execution_count": 32,
   "id": "918331d8",
   "metadata": {},
   "outputs": [
    {
     "data": {
      "image/png": "[encoded data removed]",
      "text/plain": [
       "<Figure size 640x480 with 1 Axes>"
      ]
     },
     "metadata": {},
     "output_type": "display_data"
    }
   ],
   "source": [
    "plt.plot(np.array(history.history['loss']) * 100)\n",
    "plt.plot(np.array(history.history['val_loss']) * 100)\n",
    "plt.ylabel('loss')\n",
    "plt.xlabel('epochs')\n",
    "plt.legend(['Training', 'Validation'])\n",
    "plt.title('Loss over epochs')\n",
    "plt.show()"
   ]
  },
  {
   "cell_type": "code",
   "execution_count": 33,
   "id": "ecc311bf",
   "metadata": {},
   "outputs": [
    {
     "name": "stdout",
     "output_type": "stream",
     "text": [
      "63/63 [==============================] - 0s 2ms/step - loss: 0.3562 - accuracy: 0.8510\n"
     ]
    },
    {
     "data": {
      "text/plain": [
       "[0.3561767637729645, 0.8510000109672546]"
      ]
     },
     "execution_count": 33,
     "metadata": {},
     "output_type": "execute_result"
    }
   ],
   "source": [
    "model.evaluate(X_test, y_test)"
   ]
  },
  {
   "cell_type": "code",
   "execution_count": 34,
   "id": "8a63eb3b",
   "metadata": {},
   "outputs": [
    {
     "name": "stdout",
     "output_type": "stream",
     "text": [
      "63/63 [==============================] - 0s 1ms/step\n"
     ]
    },
    {
     "data": {
      "text/plain": [
       "array([[0.03926678],\n",
       "       [0.0670605 ],\n",
       "       [0.08221536],\n",
       "       [0.07661472],\n",
       "       [0.09028796]], dtype=float32)"
      ]
     },
     "execution_count": 34,
     "metadata": {},
     "output_type": "execute_result"
    }
   ],
   "source": [
    "yp = model.predict(X_test)\n",
    "yp[:5]"
   ]
  },
  {
   "cell_type": "code",
   "execution_count": 35,
   "id": "dd01f636",
   "metadata": {},
   "outputs": [],
   "source": [
    "y_pred = []\n",
    "for element in yp:\n",
    "    if element > 0.5:\n",
    "        y_pred.append(1)\n",
    "    else:\n",
    "        y_pred.append(0)"
   ]
  },
  {
   "cell_type": "code",
   "execution_count": 36,
   "id": "9d640bee",
   "metadata": {
    "scrolled": true
   },
   "outputs": [
    {
     "data": {
      "text/plain": [
       "[0, 0, 0, 0, 0, 0, 0, 0, 0, 1, 0, 0, 0, 0, 0, 0, 0, 0, 0, 0]"
      ]
     },
     "execution_count": 36,
     "metadata": {},
     "output_type": "execute_result"
    }
   ],
   "source": [
    "y_pred[:20]"
   ]
  },
  {
   "cell_type": "code",
   "execution_count": 37,
   "id": "f5f90bf1",
   "metadata": {},
   "outputs": [
    {
     "name": "stdout",
     "output_type": "stream",
     "text": [
      "              precision    recall  f1-score   support\n",
      "\n",
      "           0       0.86      0.97      0.91      1595\n",
      "           1       0.78      0.37      0.50       405\n",
      "\n",
      "    accuracy                           0.85      2000\n",
      "   macro avg       0.82      0.67      0.71      2000\n",
      "weighted avg       0.84      0.85      0.83      2000\n",
      "\n"
     ]
    }
   ],
   "source": [
    "print(classification_report(y_test,y_pred))"
   ]
  },
  {
   "cell_type": "code",
   "execution_count": 40,
   "id": "3a78f504",
   "metadata": {},
   "outputs": [
    {
     "name": "stdout",
     "output_type": "stream",
     "text": [
      "[[1552   43]\n",
      " [ 255  150]]\n"
     ]
    }
   ],
   "source": [
    "cm = confusion_matrix(y_test, y_pred)\n",
    "print(cm)"
   ]
  },
  {
   "cell_type": "code",
   "execution_count": 41,
   "id": "550e20b1",
   "metadata": {
    "scrolled": false
   },
   "outputs": [
    {
     "data": {
      "text/plain": [
       "Text(70.72222222222221, 0.5, 'Truth')"
      ]
     },
     "execution_count": 41,
     "metadata": {},
     "output_type": "execute_result"
    },
    {
     "data": {
      "image/png": "[encoded data removed]",
      "text/plain": [
       "<Figure size 800x500 with 2 Axes>"
      ]
     },
     "metadata": {},
     "output_type": "display_data"
    }
   ],
   "source": [
    "plt.figure(figsize = (8,5))\n",
    "sns.heatmap(cm, annot=True, fmt='d')\n",
    "plt.xlabel('Predicted')\n",
    "plt.ylabel('Truth')"
   ]
  },
  {
   "cell_type": "code",
   "execution_count": null,
   "id": "32b556e0",
   "metadata": {},
   "outputs": [],
   "source": []
  }
 ],
 "metadata": {
  "kernelspec": {
   "display_name": "Python 3 (ipykernel)",
   "language": "python",
   "name": "python3"
  },
  "language_info": {
   "codemirror_mode": {
    "name": "ipython",
    "version": 3
   },
   "file_extension": ".py",
   "mimetype": "text/x-python",
   "name": "python",
   "nbconvert_exporter": "python",
   "pygments_lexer": "ipython3",
   "version": "3.11.5"
  }
 },
 "nbformat": 4,
 "nbformat_minor": 5
}
